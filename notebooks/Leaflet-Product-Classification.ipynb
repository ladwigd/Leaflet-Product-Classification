{
 "cells": [
  {
   "cell_type": "markdown",
   "id": "296a5616",
   "metadata": {},
   "source": [
    "# Library Installation"
   ]
  },
  {
   "cell_type": "code",
   "execution_count": null,
   "id": "59d57273",
   "metadata": {},
   "outputs": [],
   "source": [
    "#apt-get update\n",
    "#apt install tesseract-ocr\n",
    "#apt-get install tesseract-ocr-deu\n",
    "#pip install pytesseract\n",
    "#!pip install split-folders"
   ]
  },
  {
   "cell_type": "code",
   "execution_count": null,
   "id": "757ea49e",
   "metadata": {},
   "outputs": [],
   "source": [
    "#!pip install ipywidgets\n",
    "#!pip install widgetsnbextension\n",
    "#!jupyter nbextension enable --py widgetsnbextension"
   ]
  },
  {
   "cell_type": "markdown",
   "id": "6b4d5097",
   "metadata": {},
   "source": [
    "# Library Import"
   ]
  },
  {
   "cell_type": "code",
   "execution_count": 1,
   "id": "0185f347",
   "metadata": {},
   "outputs": [],
   "source": [
    "import sys\n",
    "import os\n",
    "from os.path import dirname\n",
    "\n",
    "#path to image and text models\n",
    "sys.path.append(\"../src/models/\")"
   ]
  },
  {
   "cell_type": "code",
   "execution_count": 2,
   "id": "b1b56872",
   "metadata": {},
   "outputs": [],
   "source": [
    "import pytesseract\n",
    "from pytesseract import Output\n",
    "\n",
    "import product_recognition_image_model as prm\n",
    "import product_recognition_text_model as prtm\n",
    "\n",
    "import torch\n",
    "from PIL import Image\n",
    "import numpy as np\n",
    "import pandas as pd\n",
    "from scipy.special import softmax\n",
    "import threading\n",
    "\n",
    "import matplotlib.image as mpimg\n",
    "import matplotlib.pyplot as plt\n",
    "from matplotlib.pyplot import figure\n",
    "import datetime\n",
    "import pickle\n",
    "\n",
    "import cv2\n",
    "\n",
    "import splitfolders\n",
    "\n",
    "%load_ext autoreload\n",
    "%autoreload 2"
   ]
  },
  {
   "cell_type": "code",
   "execution_count": 3,
   "id": "7388cfe6",
   "metadata": {},
   "outputs": [
    {
     "data": {
      "text/plain": [
       "'0.24.2'"
      ]
     },
     "execution_count": 3,
     "metadata": {},
     "output_type": "execute_result"
    }
   ],
   "source": [
    "import sklearn\n",
    "sklearn.__version__"
   ]
  },
  {
   "cell_type": "code",
   "execution_count": 4,
   "id": "5bffe5a2",
   "metadata": {},
   "outputs": [
    {
     "data": {
      "text/plain": [
       "<Version('4.1.1')>"
      ]
     },
     "execution_count": 4,
     "metadata": {},
     "output_type": "execute_result"
    }
   ],
   "source": [
    "pytesseract.get_tesseract_version()"
   ]
  },
  {
   "cell_type": "code",
   "execution_count": 5,
   "id": "fabc3ca4",
   "metadata": {},
   "outputs": [
    {
     "data": {
      "text/plain": [
       "'1.12.0a0+bd13bc6'"
      ]
     },
     "execution_count": 5,
     "metadata": {},
     "output_type": "execute_result"
    }
   ],
   "source": [
    "torch.__version__"
   ]
  },
  {
   "cell_type": "code",
   "execution_count": 6,
   "id": "2a9c8cd1",
   "metadata": {},
   "outputs": [
    {
     "data": {
      "text/plain": [
       "'NVIDIA GeForce RTX 3090'"
      ]
     },
     "execution_count": 6,
     "metadata": {},
     "output_type": "execute_result"
    }
   ],
   "source": [
    "# GPU Used:\n",
    "torch.cuda.get_device_name()"
   ]
  },
  {
   "cell_type": "markdown",
   "id": "292e4ce2",
   "metadata": {},
   "source": [
    "# Validation/Test Split"
   ]
  },
  {
   "cell_type": "code",
   "execution_count": null,
   "id": "47126c4f",
   "metadata": {},
   "outputs": [],
   "source": [
    "test_folders = \"../data/raw/products_leaflets_256/test\"\n",
    "val_test_split_path = \"../data/raw/products_leaflets_256/val_test_split\"\n",
    "\n",
    "splitfolders.ratio(test_folders, output=val_test_split_path,\n",
    "    seed=1, ratio=(.5, .5), group_prefix=None, move=False)\n",
    "\n",
    "test_folders = \"../data/raw/products_leaflets_512/test\"\n",
    "val_test_split_path = \"../data/raw/products_leaflets_512/val_test_split\"\n",
    "\n",
    "splitfolders.ratio(test_folders, output=val_test_split_path,\n",
    "    seed=1, ratio=(.5, .5), group_prefix=None, move=False)\n",
    "\n",
    "# splitfolders splits in train/val, rename in test/val\n",
    "os.rename(\"../data/raw/products_leaflets_256/val_test_split/train\", \"../data/raw/products_leaflets_256/val_test_split/test\")\n",
    "os.rename(\"../data/raw/products_leaflets_512/val_test_split/train\", \"../data/raw/products_leaflets_512/val_test_split/test\")\n"
   ]
  },
  {
   "cell_type": "markdown",
   "id": "cef9e4cc",
   "metadata": {},
   "source": [
    "# Helper Functions"
   ]
  },
  {
   "cell_type": "code",
   "execution_count": 7,
   "id": "050d8c05",
   "metadata": {},
   "outputs": [],
   "source": [
    "def top_k_calc_from_probas(probas, truth_label_index, top_k = 5):\n",
    "    results = []\n",
    "    indexes = []\n",
    "    real_class_indexes = []\n",
    "    for count, entry in enumerate(probas):\n",
    "        top_k_indexes = np.flip(np.argsort(entry)[-top_k:])\n",
    "        real_class_index = []\n",
    "        for x in top_k_indexes:\n",
    "            real_class_index.append(pRMModel.get_real_class_from_dataloader(selected_dataloader, x))\n",
    "        indexes.append(top_k_indexes)\n",
    "        real_class_indexes.append(real_class_index)\n",
    "        if truth_label_index[count] in top_k_indexes:\n",
    "            results.append(True)\n",
    "        else:\n",
    "            results.append(False)\n",
    "    return results.count(True)/len(results), results, indexes, real_class_indexes\n",
    "\n",
    "#Text extraction Helper ------\n",
    "\n",
    "def sortClassesNumerical(classArray):\n",
    "    resultArray = []\n",
    "    for i in classArray:\n",
    "        try:\n",
    "            resultArray.append(int(i))\n",
    "        except:\n",
    "            print(\"Could not convert:\", i)\n",
    "    return resultArray\n",
    "\n",
    "def sortImages(stringImageArray):\n",
    "    resultArray = []\n",
    "    for i in stringImageArray:\n",
    "        try:\n",
    "            resultArray.append(int(i[0:-4]))\n",
    "        except:\n",
    "            print(\"Could not convert:\", i)\n",
    "    sortedArray = np.sort(resultArray)\n",
    "    \n",
    "    resultArray = []\n",
    "    for i in sortedArray:\n",
    "        resultArray.append(str(i) +\".jpg\")\n",
    "    return resultArray\n",
    "\n",
    "def createFullSortedImageList(path):\n",
    "    complete_df = pd.DataFrame(columns=[\"image_id\", \"truth_label\"])\n",
    "    sorted_classes = np.sort(sortClassesNumerical(os.listdir(path)))\n",
    "    class_df = pd.DataFrame()\n",
    "    for count, className in enumerate(sorted_classes):\n",
    "        class_image_list = sortImages(os.listdir(path + \"/\" + str(className)))\n",
    "        for image_name in class_image_list:\n",
    "            complete_df.loc[len(complete_df.index)] = [(str(className) + \"/\" + image_name), className]\n",
    "    return complete_df\n",
    "\n",
    "def extract_text_from_imagepath_df(text_preprocessing, image_path, extract_image_df, extraction_name, phase, \n",
    "                                   save_interval = 2000, progress_inteval = 500):\n",
    "    extraction_name = extraction_name + \"_\" + phase + \"_\"\n",
    "    extraction_method_names = []\n",
    "    for i in text_preprocessing.extraction_methods:\n",
    "        extraction_method_names.append(i.__name__)\n",
    "\n",
    "    progress_inteval = progress_inteval\n",
    "    start_time = datetime.datetime.now()\n",
    "    print(\"Start:\", start_time)\n",
    "    result_df = pd.DataFrame(columns= [\"extraction_id\"] + extraction_method_names)\n",
    "    for index, row in extract_image_df.iterrows():\n",
    "        sample_image_path = image_path + \"/\" + row[\"image_id\"]\n",
    "        img = mpimg.imread(sample_image_path)\n",
    "        ocr_string = text_preprocessing.ocr_image(img, return_single_results = True)\n",
    "        result_df.loc[len(result_df.index)] = [index] + ocr_string\n",
    "        \n",
    "        if index%progress_inteval == 0:\n",
    "            print(index, '{:.4f}'.format(index/len(extract_image_df)) + \"% -\", datetime.datetime.now())  \n",
    "            \n",
    "        # fix if shared memory is filled by tesseract memory allocation not freed bug --\n",
    "        \"\"\"\n",
    "        # clear shared memory folder\n",
    "        if (index%500 == 0):\n",
    "            print(\"SHM Folder Size:\", os.path.getsize(\"../../../../../dev/shm\"))\n",
    "            print(\"Clear SHM Directory\")\n",
    "            os.system(\"rm ../../../../../dev/shm/*\")\n",
    "            print(\"SHM Folder Size:\", os.path.getsize(\"../../../../../dev/shm\"))\n",
    "        # ---\n",
    "        \"\"\"\n",
    "        \n",
    "        if (index != 0) and (index%save_interval == 0):\n",
    "            result_df.to_pickle(save_path + extraction_name + str(index) + \".pkl\")\n",
    "            result_df = pd.DataFrame(columns= [\"extraction_id\"] + extraction_method_names)\n",
    "    result_df.to_pickle(save_path + extraction_name + str(index) + \".pkl\")\n",
    "    end_time = datetime.datetime.now()\n",
    "    print(\"End:\", end_time)\n",
    "    print(\"Duration:\", end_time - start_time)\n",
    "    \n",
    "    # combine all extraction checkpoints to one complete dataframe\n",
    "    df_extract_complete = pd.DataFrame()\n",
    "    df_length = len(extract_image_df)\n",
    "    for i in range(save_interval, df_length, save_interval):\n",
    "        if i == save_interval:\n",
    "            df_extract_complete = pd.read_pickle(save_path + extraction_name + str(i) +\".pkl\")\n",
    "        else:\n",
    "            tempDF = pd.read_pickle(save_path + extraction_name + str(i) +\".pkl\")\n",
    "            df_extract_complete = pd.concat([df_extract_complete, tempDF], axis = 0).reset_index(drop=True)\n",
    "    tempDF = pd.read_pickle(save_path + extraction_name + str(df_length-1) +\".pkl\")\n",
    "    df_extract_complete = pd.concat([df_extract_complete, tempDF], axis = 0).reset_index(drop=True)\n",
    "    df_extract_complete.to_pickle(save_path + extraction_name + \"_complete\" + \".pkl\")\n",
    "\n",
    "#------"
   ]
  },
  {
   "cell_type": "markdown",
   "id": "5e452b19",
   "metadata": {},
   "source": [
    "# Image Model"
   ]
  },
  {
   "cell_type": "code",
   "execution_count": 8,
   "id": "ad685437",
   "metadata": {},
   "outputs": [],
   "source": [
    "train_data_path = \"../data/raw/products_leaflets_256/train\"\n",
    "test_data_path = \"../data/raw/products_leaflets_256/val_test_split/test\"\n",
    "val_data_path = \"../data/raw/products_leaflets_256/val_test_split/val\"\n",
    "save_path  = \"../data/processed/ocr-results/pickle/\""
   ]
  },
  {
   "cell_type": "code",
   "execution_count": 9,
   "id": "a8b7b353",
   "metadata": {},
   "outputs": [
    {
     "name": "stdout",
     "output_type": "stream",
     "text": [
      "Device: cuda:0\n"
     ]
    }
   ],
   "source": [
    "pRMModel = prm.productRecognitionImageModel()\n",
    "pRMModel.set_configuration()\n",
    "pRMModel.initialize_dataloader(train_data_path = train_data_path, test_data_path = test_data_path, val_data_path = val_data_path)\n",
    "pRMModel.initialize_model()"
   ]
  },
  {
   "cell_type": "code",
   "execution_count": 10,
   "id": "7ecdbbfd",
   "metadata": {},
   "outputs": [],
   "source": [
    "# get Image Order from dataloader to keep order\n",
    "selected_dataloader = pRMModel.dataloaders[\"validation\"]\n",
    "test_image_paths = selected_dataloader.dataset.imgs\n",
    "test_image_model_labels = [x[1] for x in test_image_paths]\n",
    "test_image_paths = [x[0] for x in test_image_paths]\n",
    "test_image_paths_512 = [x.replace(\"_256\", \"_512\") for x in test_image_paths]\n",
    "\n",
    "df_test_images = pd.DataFrame()\n",
    "df_test_images[\"image_paths\"] = test_image_paths_512\n",
    "\n",
    "result_df = pd.DataFrame()\n",
    "result_df[\"image_paths\"] = test_image_paths\n",
    "result_df[\"truth_labels\"] = test_image_model_labels"
   ]
  },
  {
   "cell_type": "code",
   "execution_count": 51,
   "id": "6fefda3b",
   "metadata": {},
   "outputs": [
    {
     "name": "stdout",
     "output_type": "stream",
     "text": [
      "Epoch 1/30\n",
      "----------\n",
      "train loss: 4.8151, acc: 0.1895\n",
      "Training complete in 2m 46s\n"
     ]
    },
    {
     "name": "stderr",
     "output_type": "stream",
     "text": [
      "/opt/conda/lib/python3.8/site-packages/torch/nn/modules/module.py:1383: UserWarning: positional arguments and argument \"destination\" are deprecated. nn.Module.state_dict will not accept them in the future. Refer to https://pytorch.org/docs/master/generated/torch.nn.Module.html#torch.nn.Module.state_dict for details.\n",
      "  warnings.warn(\n"
     ]
    },
    {
     "name": "stdout",
     "output_type": "stream",
     "text": [
      "validation loss: 1.5087, acc: 0.6654\n",
      "Training complete in 2m 55s\n",
      "Epoch 2/30\n",
      "----------\n",
      "train loss: 0.7066, acc: 0.8474\n",
      "Training complete in 2m 46s\n",
      "validation loss: 0.5409, acc: 0.8707\n",
      "Training complete in 2m 55s\n",
      "Epoch 3/30\n",
      "----------\n",
      "train loss: 0.2075, acc: 0.9524\n",
      "Training complete in 2m 46s\n",
      "validation loss: 0.4903, acc: 0.8887\n",
      "Training complete in 2m 54s\n",
      "Epoch 4/30\n",
      "----------\n",
      "train loss: 0.1055, acc: 0.9759\n",
      "Training complete in 2m 46s\n",
      "validation loss: 0.4335, acc: 0.9022\n",
      "Training complete in 2m 55s\n",
      "Epoch 5/30\n",
      "----------\n",
      "train loss: 0.0602, acc: 0.9860\n",
      "Training complete in 2m 46s\n",
      "validation loss: 0.4498, acc: 0.9060\n",
      "Training complete in 2m 55s\n",
      "Epoch 6/30\n",
      "----------\n",
      "train loss: 0.0352, acc: 0.9925\n",
      "Training complete in 2m 45s\n",
      "validation loss: 0.4272, acc: 0.9156\n",
      "Training complete in 2m 54s\n",
      "Epoch 7/30\n",
      "----------\n",
      "train loss: 0.0248, acc: 0.9957\n",
      "Training complete in 2m 45s\n",
      "validation loss: 0.4398, acc: 0.9139\n",
      "Training complete in 2m 54s\n",
      "Epoch 8/30\n",
      "----------\n",
      "train loss: 0.0166, acc: 0.9968\n",
      "Training complete in 2m 45s\n",
      "validation loss: 0.4469, acc: 0.9149\n",
      "Training complete in 2m 54s\n",
      "Epoch 9/30\n",
      "----------\n",
      "train loss: 0.0124, acc: 0.9979\n",
      "Training complete in 2m 45s\n",
      "validation loss: 0.4413, acc: 0.9154\n",
      "Training complete in 2m 54s\n",
      "Epoch 10/30\n",
      "----------\n",
      "train loss: 0.0093, acc: 0.9988\n",
      "Training complete in 2m 45s\n",
      "validation loss: 0.4493, acc: 0.9151\n",
      "Training complete in 2m 54s\n",
      "Epoch 11/30\n",
      "----------\n",
      "train loss: 0.0071, acc: 0.9990\n",
      "Training complete in 2m 46s\n",
      "validation loss: 0.4379, acc: 0.9226\n",
      "Training complete in 2m 55s\n",
      "Epoch 12/30\n",
      "----------\n",
      "train loss: 0.0058, acc: 0.9993\n",
      "Training complete in 2m 45s\n",
      "validation loss: 0.4377, acc: 0.9257\n",
      "Training complete in 2m 54s\n",
      "Epoch 13/30\n",
      "----------\n",
      "train loss: 0.0032, acc: 0.9998\n",
      "Training complete in 2m 45s\n",
      "validation loss: 0.4181, acc: 0.9272\n",
      "Training complete in 2m 54s\n",
      "Epoch 14/30\n",
      "----------\n",
      "train loss: 0.0025, acc: 0.9998\n",
      "Training complete in 2m 47s\n",
      "validation loss: 0.4282, acc: 0.9243\n",
      "Training complete in 2m 56s\n",
      "Epoch 15/30\n",
      "----------\n",
      "train loss: 0.0041, acc: 0.9994\n",
      "Training complete in 2m 47s\n",
      "validation loss: 0.4251, acc: 0.9269\n",
      "Training complete in 2m 56s\n",
      "Epoch 16/30\n",
      "----------\n",
      "train loss: 0.0029, acc: 0.9998\n",
      "Training complete in 2m 46s\n",
      "validation loss: 0.4355, acc: 0.9243\n",
      "Training complete in 2m 55s\n",
      "Epoch 17/30\n",
      "----------\n",
      "train loss: 0.0018, acc: 1.0000\n",
      "Training complete in 2m 46s\n",
      "validation loss: 0.4278, acc: 0.9257\n",
      "Training complete in 2m 54s\n",
      "Epoch 18/30\n",
      "----------\n",
      "train loss: 0.0018, acc: 0.9999\n",
      "Training complete in 2m 46s\n",
      "validation loss: 0.4376, acc: 0.9260\n",
      "Training complete in 2m 55s\n",
      "Epoch 19/30\n",
      "----------\n",
      "train loss: 0.0019, acc: 0.9999\n",
      "Training complete in 2m 46s\n",
      "validation loss: 0.4316, acc: 0.9257\n",
      "Training complete in 2m 54s\n",
      "Epoch 20/30\n",
      "----------\n",
      "train loss: 0.0022, acc: 0.9997\n",
      "Training complete in 2m 45s\n",
      "validation loss: 0.4429, acc: 0.9240\n",
      "Training complete in 2m 54s\n",
      "Epoch 21/30\n",
      "----------\n",
      "train loss: 0.0013, acc: 0.9999\n",
      "Training complete in 2m 47s\n",
      "validation loss: 0.4291, acc: 0.9260\n",
      "Training complete in 2m 55s\n",
      "Epoch 22/30\n",
      "----------\n",
      "train loss: 0.0012, acc: 0.9999\n",
      "Training complete in 2m 46s\n",
      "validation loss: 0.4422, acc: 0.9245\n",
      "Training complete in 2m 55s\n",
      "Epoch 23/30\n",
      "----------\n",
      "train loss: 0.0021, acc: 0.9997\n",
      "Training complete in 2m 46s\n",
      "validation loss: 0.4617, acc: 0.9240\n",
      "Training complete in 2m 55s\n",
      "Epoch 24/30\n",
      "----------\n",
      "train loss: 0.0018, acc: 0.9998\n",
      "Training complete in 2m 46s\n",
      "validation loss: 0.4506, acc: 0.9190\n",
      "Training complete in 2m 54s\n",
      "Epoch 25/30\n",
      "----------\n",
      "train loss: 0.0012, acc: 0.9998\n",
      "Training complete in 2m 47s\n",
      "validation loss: 0.4481, acc: 0.9250\n",
      "Training complete in 2m 55s\n",
      "Epoch 26/30\n",
      "----------\n",
      "train loss: 0.0010, acc: 0.9999\n",
      "Training complete in 2m 46s\n",
      "validation loss: 0.4411, acc: 0.9288\n",
      "Training complete in 2m 55s\n",
      "Epoch 27/30\n",
      "----------\n",
      "train loss: 0.0009, acc: 0.9999\n",
      "Training complete in 2m 45s\n",
      "validation loss: 0.4425, acc: 0.9281\n",
      "Training complete in 2m 54s\n",
      "Epoch 28/30\n",
      "----------\n",
      "train loss: 0.0009, acc: 0.9999\n",
      "Training complete in 2m 46s\n",
      "validation loss: 0.4334, acc: 0.9272\n",
      "Training complete in 2m 54s\n",
      "Epoch 29/30\n",
      "----------\n",
      "train loss: 0.0009, acc: 0.9999\n",
      "Training complete in 2m 46s\n",
      "validation loss: 0.4398, acc: 0.9288\n",
      "Training complete in 2m 55s\n",
      "Epoch 30/30\n",
      "----------\n",
      "train loss: 0.0008, acc: 0.9999\n",
      "Training complete in 2m 45s\n",
      "validation loss: 0.4338, acc: 0.9281\n",
      "Training complete in 2m 54s\n"
     ]
    }
   ],
   "source": [
    "#train image model\n",
    "trained_model = pRMModel.train_model(30)"
   ]
  },
  {
   "cell_type": "code",
   "execution_count": 52,
   "id": "426359a5",
   "metadata": {},
   "outputs": [
    {
     "data": {
      "text/plain": [
       "ResNet(\n",
       "  (conv1): Conv2d(3, 64, kernel_size=(7, 7), stride=(2, 2), padding=(3, 3), bias=False)\n",
       "  (bn1): BatchNorm2d(64, eps=1e-05, momentum=0.1, affine=True, track_running_stats=True)\n",
       "  (relu): ReLU(inplace=True)\n",
       "  (maxpool): MaxPool2d(kernel_size=3, stride=2, padding=1, dilation=1, ceil_mode=False)\n",
       "  (layer1): Sequential(\n",
       "    (0): Bottleneck(\n",
       "      (conv1): Conv2d(64, 64, kernel_size=(1, 1), stride=(1, 1), bias=False)\n",
       "      (bn1): BatchNorm2d(64, eps=1e-05, momentum=0.1, affine=True, track_running_stats=True)\n",
       "      (conv2): Conv2d(64, 64, kernel_size=(3, 3), stride=(1, 1), padding=(1, 1), bias=False)\n",
       "      (bn2): BatchNorm2d(64, eps=1e-05, momentum=0.1, affine=True, track_running_stats=True)\n",
       "      (conv3): Conv2d(64, 256, kernel_size=(1, 1), stride=(1, 1), bias=False)\n",
       "      (bn3): BatchNorm2d(256, eps=1e-05, momentum=0.1, affine=True, track_running_stats=True)\n",
       "      (relu): ReLU(inplace=True)\n",
       "      (downsample): Sequential(\n",
       "        (0): Conv2d(64, 256, kernel_size=(1, 1), stride=(1, 1), bias=False)\n",
       "        (1): BatchNorm2d(256, eps=1e-05, momentum=0.1, affine=True, track_running_stats=True)\n",
       "      )\n",
       "    )\n",
       "    (1): Bottleneck(\n",
       "      (conv1): Conv2d(256, 64, kernel_size=(1, 1), stride=(1, 1), bias=False)\n",
       "      (bn1): BatchNorm2d(64, eps=1e-05, momentum=0.1, affine=True, track_running_stats=True)\n",
       "      (conv2): Conv2d(64, 64, kernel_size=(3, 3), stride=(1, 1), padding=(1, 1), bias=False)\n",
       "      (bn2): BatchNorm2d(64, eps=1e-05, momentum=0.1, affine=True, track_running_stats=True)\n",
       "      (conv3): Conv2d(64, 256, kernel_size=(1, 1), stride=(1, 1), bias=False)\n",
       "      (bn3): BatchNorm2d(256, eps=1e-05, momentum=0.1, affine=True, track_running_stats=True)\n",
       "      (relu): ReLU(inplace=True)\n",
       "    )\n",
       "    (2): Bottleneck(\n",
       "      (conv1): Conv2d(256, 64, kernel_size=(1, 1), stride=(1, 1), bias=False)\n",
       "      (bn1): BatchNorm2d(64, eps=1e-05, momentum=0.1, affine=True, track_running_stats=True)\n",
       "      (conv2): Conv2d(64, 64, kernel_size=(3, 3), stride=(1, 1), padding=(1, 1), bias=False)\n",
       "      (bn2): BatchNorm2d(64, eps=1e-05, momentum=0.1, affine=True, track_running_stats=True)\n",
       "      (conv3): Conv2d(64, 256, kernel_size=(1, 1), stride=(1, 1), bias=False)\n",
       "      (bn3): BatchNorm2d(256, eps=1e-05, momentum=0.1, affine=True, track_running_stats=True)\n",
       "      (relu): ReLU(inplace=True)\n",
       "    )\n",
       "  )\n",
       "  (layer2): Sequential(\n",
       "    (0): Bottleneck(\n",
       "      (conv1): Conv2d(256, 128, kernel_size=(1, 1), stride=(1, 1), bias=False)\n",
       "      (bn1): BatchNorm2d(128, eps=1e-05, momentum=0.1, affine=True, track_running_stats=True)\n",
       "      (conv2): Conv2d(128, 128, kernel_size=(3, 3), stride=(2, 2), padding=(1, 1), bias=False)\n",
       "      (bn2): BatchNorm2d(128, eps=1e-05, momentum=0.1, affine=True, track_running_stats=True)\n",
       "      (conv3): Conv2d(128, 512, kernel_size=(1, 1), stride=(1, 1), bias=False)\n",
       "      (bn3): BatchNorm2d(512, eps=1e-05, momentum=0.1, affine=True, track_running_stats=True)\n",
       "      (relu): ReLU(inplace=True)\n",
       "      (downsample): Sequential(\n",
       "        (0): Conv2d(256, 512, kernel_size=(1, 1), stride=(2, 2), bias=False)\n",
       "        (1): BatchNorm2d(512, eps=1e-05, momentum=0.1, affine=True, track_running_stats=True)\n",
       "      )\n",
       "    )\n",
       "    (1): Bottleneck(\n",
       "      (conv1): Conv2d(512, 128, kernel_size=(1, 1), stride=(1, 1), bias=False)\n",
       "      (bn1): BatchNorm2d(128, eps=1e-05, momentum=0.1, affine=True, track_running_stats=True)\n",
       "      (conv2): Conv2d(128, 128, kernel_size=(3, 3), stride=(1, 1), padding=(1, 1), bias=False)\n",
       "      (bn2): BatchNorm2d(128, eps=1e-05, momentum=0.1, affine=True, track_running_stats=True)\n",
       "      (conv3): Conv2d(128, 512, kernel_size=(1, 1), stride=(1, 1), bias=False)\n",
       "      (bn3): BatchNorm2d(512, eps=1e-05, momentum=0.1, affine=True, track_running_stats=True)\n",
       "      (relu): ReLU(inplace=True)\n",
       "    )\n",
       "    (2): Bottleneck(\n",
       "      (conv1): Conv2d(512, 128, kernel_size=(1, 1), stride=(1, 1), bias=False)\n",
       "      (bn1): BatchNorm2d(128, eps=1e-05, momentum=0.1, affine=True, track_running_stats=True)\n",
       "      (conv2): Conv2d(128, 128, kernel_size=(3, 3), stride=(1, 1), padding=(1, 1), bias=False)\n",
       "      (bn2): BatchNorm2d(128, eps=1e-05, momentum=0.1, affine=True, track_running_stats=True)\n",
       "      (conv3): Conv2d(128, 512, kernel_size=(1, 1), stride=(1, 1), bias=False)\n",
       "      (bn3): BatchNorm2d(512, eps=1e-05, momentum=0.1, affine=True, track_running_stats=True)\n",
       "      (relu): ReLU(inplace=True)\n",
       "    )\n",
       "    (3): Bottleneck(\n",
       "      (conv1): Conv2d(512, 128, kernel_size=(1, 1), stride=(1, 1), bias=False)\n",
       "      (bn1): BatchNorm2d(128, eps=1e-05, momentum=0.1, affine=True, track_running_stats=True)\n",
       "      (conv2): Conv2d(128, 128, kernel_size=(3, 3), stride=(1, 1), padding=(1, 1), bias=False)\n",
       "      (bn2): BatchNorm2d(128, eps=1e-05, momentum=0.1, affine=True, track_running_stats=True)\n",
       "      (conv3): Conv2d(128, 512, kernel_size=(1, 1), stride=(1, 1), bias=False)\n",
       "      (bn3): BatchNorm2d(512, eps=1e-05, momentum=0.1, affine=True, track_running_stats=True)\n",
       "      (relu): ReLU(inplace=True)\n",
       "    )\n",
       "  )\n",
       "  (layer3): Sequential(\n",
       "    (0): Bottleneck(\n",
       "      (conv1): Conv2d(512, 256, kernel_size=(1, 1), stride=(1, 1), bias=False)\n",
       "      (bn1): BatchNorm2d(256, eps=1e-05, momentum=0.1, affine=True, track_running_stats=True)\n",
       "      (conv2): Conv2d(256, 256, kernel_size=(3, 3), stride=(2, 2), padding=(1, 1), bias=False)\n",
       "      (bn2): BatchNorm2d(256, eps=1e-05, momentum=0.1, affine=True, track_running_stats=True)\n",
       "      (conv3): Conv2d(256, 1024, kernel_size=(1, 1), stride=(1, 1), bias=False)\n",
       "      (bn3): BatchNorm2d(1024, eps=1e-05, momentum=0.1, affine=True, track_running_stats=True)\n",
       "      (relu): ReLU(inplace=True)\n",
       "      (downsample): Sequential(\n",
       "        (0): Conv2d(512, 1024, kernel_size=(1, 1), stride=(2, 2), bias=False)\n",
       "        (1): BatchNorm2d(1024, eps=1e-05, momentum=0.1, affine=True, track_running_stats=True)\n",
       "      )\n",
       "    )\n",
       "    (1): Bottleneck(\n",
       "      (conv1): Conv2d(1024, 256, kernel_size=(1, 1), stride=(1, 1), bias=False)\n",
       "      (bn1): BatchNorm2d(256, eps=1e-05, momentum=0.1, affine=True, track_running_stats=True)\n",
       "      (conv2): Conv2d(256, 256, kernel_size=(3, 3), stride=(1, 1), padding=(1, 1), bias=False)\n",
       "      (bn2): BatchNorm2d(256, eps=1e-05, momentum=0.1, affine=True, track_running_stats=True)\n",
       "      (conv3): Conv2d(256, 1024, kernel_size=(1, 1), stride=(1, 1), bias=False)\n",
       "      (bn3): BatchNorm2d(1024, eps=1e-05, momentum=0.1, affine=True, track_running_stats=True)\n",
       "      (relu): ReLU(inplace=True)\n",
       "    )\n",
       "    (2): Bottleneck(\n",
       "      (conv1): Conv2d(1024, 256, kernel_size=(1, 1), stride=(1, 1), bias=False)\n",
       "      (bn1): BatchNorm2d(256, eps=1e-05, momentum=0.1, affine=True, track_running_stats=True)\n",
       "      (conv2): Conv2d(256, 256, kernel_size=(3, 3), stride=(1, 1), padding=(1, 1), bias=False)\n",
       "      (bn2): BatchNorm2d(256, eps=1e-05, momentum=0.1, affine=True, track_running_stats=True)\n",
       "      (conv3): Conv2d(256, 1024, kernel_size=(1, 1), stride=(1, 1), bias=False)\n",
       "      (bn3): BatchNorm2d(1024, eps=1e-05, momentum=0.1, affine=True, track_running_stats=True)\n",
       "      (relu): ReLU(inplace=True)\n",
       "    )\n",
       "    (3): Bottleneck(\n",
       "      (conv1): Conv2d(1024, 256, kernel_size=(1, 1), stride=(1, 1), bias=False)\n",
       "      (bn1): BatchNorm2d(256, eps=1e-05, momentum=0.1, affine=True, track_running_stats=True)\n",
       "      (conv2): Conv2d(256, 256, kernel_size=(3, 3), stride=(1, 1), padding=(1, 1), bias=False)\n",
       "      (bn2): BatchNorm2d(256, eps=1e-05, momentum=0.1, affine=True, track_running_stats=True)\n",
       "      (conv3): Conv2d(256, 1024, kernel_size=(1, 1), stride=(1, 1), bias=False)\n",
       "      (bn3): BatchNorm2d(1024, eps=1e-05, momentum=0.1, affine=True, track_running_stats=True)\n",
       "      (relu): ReLU(inplace=True)\n",
       "    )\n",
       "    (4): Bottleneck(\n",
       "      (conv1): Conv2d(1024, 256, kernel_size=(1, 1), stride=(1, 1), bias=False)\n",
       "      (bn1): BatchNorm2d(256, eps=1e-05, momentum=0.1, affine=True, track_running_stats=True)\n",
       "      (conv2): Conv2d(256, 256, kernel_size=(3, 3), stride=(1, 1), padding=(1, 1), bias=False)\n",
       "      (bn2): BatchNorm2d(256, eps=1e-05, momentum=0.1, affine=True, track_running_stats=True)\n",
       "      (conv3): Conv2d(256, 1024, kernel_size=(1, 1), stride=(1, 1), bias=False)\n",
       "      (bn3): BatchNorm2d(1024, eps=1e-05, momentum=0.1, affine=True, track_running_stats=True)\n",
       "      (relu): ReLU(inplace=True)\n",
       "    )\n",
       "    (5): Bottleneck(\n",
       "      (conv1): Conv2d(1024, 256, kernel_size=(1, 1), stride=(1, 1), bias=False)\n",
       "      (bn1): BatchNorm2d(256, eps=1e-05, momentum=0.1, affine=True, track_running_stats=True)\n",
       "      (conv2): Conv2d(256, 256, kernel_size=(3, 3), stride=(1, 1), padding=(1, 1), bias=False)\n",
       "      (bn2): BatchNorm2d(256, eps=1e-05, momentum=0.1, affine=True, track_running_stats=True)\n",
       "      (conv3): Conv2d(256, 1024, kernel_size=(1, 1), stride=(1, 1), bias=False)\n",
       "      (bn3): BatchNorm2d(1024, eps=1e-05, momentum=0.1, affine=True, track_running_stats=True)\n",
       "      (relu): ReLU(inplace=True)\n",
       "    )\n",
       "  )\n",
       "  (layer4): Sequential(\n",
       "    (0): Bottleneck(\n",
       "      (conv1): Conv2d(1024, 512, kernel_size=(1, 1), stride=(1, 1), bias=False)\n",
       "      (bn1): BatchNorm2d(512, eps=1e-05, momentum=0.1, affine=True, track_running_stats=True)\n",
       "      (conv2): Conv2d(512, 512, kernel_size=(3, 3), stride=(2, 2), padding=(1, 1), bias=False)\n",
       "      (bn2): BatchNorm2d(512, eps=1e-05, momentum=0.1, affine=True, track_running_stats=True)\n",
       "      (conv3): Conv2d(512, 2048, kernel_size=(1, 1), stride=(1, 1), bias=False)\n",
       "      (bn3): BatchNorm2d(2048, eps=1e-05, momentum=0.1, affine=True, track_running_stats=True)\n",
       "      (relu): ReLU(inplace=True)\n",
       "      (downsample): Sequential(\n",
       "        (0): Conv2d(1024, 2048, kernel_size=(1, 1), stride=(2, 2), bias=False)\n",
       "        (1): BatchNorm2d(2048, eps=1e-05, momentum=0.1, affine=True, track_running_stats=True)\n",
       "      )\n",
       "    )\n",
       "    (1): Bottleneck(\n",
       "      (conv1): Conv2d(2048, 512, kernel_size=(1, 1), stride=(1, 1), bias=False)\n",
       "      (bn1): BatchNorm2d(512, eps=1e-05, momentum=0.1, affine=True, track_running_stats=True)\n",
       "      (conv2): Conv2d(512, 512, kernel_size=(3, 3), stride=(1, 1), padding=(1, 1), bias=False)\n",
       "      (bn2): BatchNorm2d(512, eps=1e-05, momentum=0.1, affine=True, track_running_stats=True)\n",
       "      (conv3): Conv2d(512, 2048, kernel_size=(1, 1), stride=(1, 1), bias=False)\n",
       "      (bn3): BatchNorm2d(2048, eps=1e-05, momentum=0.1, affine=True, track_running_stats=True)\n",
       "      (relu): ReLU(inplace=True)\n",
       "    )\n",
       "    (2): Bottleneck(\n",
       "      (conv1): Conv2d(2048, 512, kernel_size=(1, 1), stride=(1, 1), bias=False)\n",
       "      (bn1): BatchNorm2d(512, eps=1e-05, momentum=0.1, affine=True, track_running_stats=True)\n",
       "      (conv2): Conv2d(512, 512, kernel_size=(3, 3), stride=(1, 1), padding=(1, 1), bias=False)\n",
       "      (bn2): BatchNorm2d(512, eps=1e-05, momentum=0.1, affine=True, track_running_stats=True)\n",
       "      (conv3): Conv2d(512, 2048, kernel_size=(1, 1), stride=(1, 1), bias=False)\n",
       "      (bn3): BatchNorm2d(2048, eps=1e-05, momentum=0.1, affine=True, track_running_stats=True)\n",
       "      (relu): ReLU(inplace=True)\n",
       "    )\n",
       "  )\n",
       "  (avgpool): AdaptiveAvgPool2d(output_size=(1, 1))\n",
       "  (fc): Sequential(\n",
       "    (0): Linear(in_features=2048, out_features=1024, bias=True)\n",
       "    (1): ReLU(inplace=True)\n",
       "    (2): Linear(in_features=1024, out_features=832, bias=True)\n",
       "  )\n",
       ")"
      ]
     },
     "execution_count": 52,
     "metadata": {},
     "output_type": "execute_result"
    }
   ],
   "source": [
    "# load best epoch weights\n",
    "pRMModel.load_best_epoch_weights()\n",
    "pRMModel.model.eval()"
   ]
  },
  {
   "cell_type": "code",
   "execution_count": 53,
   "id": "247d7178",
   "metadata": {},
   "outputs": [],
   "source": [
    "#save model weights\n",
    "#torch.save(pRMModel.model.state_dict(), '../src/models/weights/resnet_50_transfer_tuned_f.h5')"
   ]
  },
  {
   "cell_type": "code",
   "execution_count": 11,
   "id": "4cea46ed",
   "metadata": {},
   "outputs": [
    {
     "data": {
      "text/plain": [
       "101.3564453125"
      ]
     },
     "execution_count": 11,
     "metadata": {},
     "output_type": "execute_result"
    }
   ],
   "source": [
    "# load weights\n",
    "pRMModel.model.load_state_dict(torch.load('../src/models/weights/resnet_50_transfer_tuned_f.h5'))\n",
    "pRMModel.model.eval()\n",
    "torch.cuda.memory_allocated(0)/1024/1024 #allocated MB"
   ]
  },
  {
   "cell_type": "code",
   "execution_count": 12,
   "id": "a28d7304",
   "metadata": {},
   "outputs": [
    {
     "name": "stdout",
     "output_type": "stream",
     "text": [
      "CPU times: user 1min 14s, sys: 1.28 s, total: 1min 16s\n",
      "Wall time: 10.4 s\n"
     ]
    }
   ],
   "source": [
    "%%time\n",
    "# predict by dataloader\n",
    "result, probas = pRMModel.predict_from_dataloader_probas(selected_dataloader)\n",
    "confidence = [x[0] for x in result]\n",
    "predictions = [x[1] for x in result]\n",
    "result_df[\"image_confidence\"] = confidence\n",
    "result_df[\"image_prediction\"] = predictions"
   ]
  },
  {
   "cell_type": "code",
   "execution_count": 13,
   "id": "ee758881",
   "metadata": {},
   "outputs": [
    {
     "data": {
      "text/plain": [
       "0.9288461538461539"
      ]
     },
     "execution_count": 13,
     "metadata": {},
     "output_type": "execute_result"
    }
   ],
   "source": [
    "top_k_number = 1\n",
    "top_k_acc, top_k_results, image_indexes, _ = top_k_calc_from_probas(probas, result_df[\"truth_labels\"].values, top_k_number)\n",
    "result_df[\"in_top_\" + str(top_k_number)] = top_k_results\n",
    "top_k_acc"
   ]
  },
  {
   "cell_type": "code",
   "execution_count": 14,
   "id": "cabf8976",
   "metadata": {},
   "outputs": [
    {
     "data": {
      "text/plain": [
       "0.9675480769230769"
      ]
     },
     "execution_count": 14,
     "metadata": {},
     "output_type": "execute_result"
    }
   ],
   "source": [
    "top_k_number = 3\n",
    "top_k_acc, top_k_results, image_indexes, _ = top_k_calc_from_probas(probas, result_df[\"truth_labels\"].values, top_k_number)\n",
    "result_df[\"in_top_\" + str(top_k_number)] = top_k_results\n",
    "top_k_acc"
   ]
  },
  {
   "cell_type": "code",
   "execution_count": 15,
   "id": "4fae65da",
   "metadata": {},
   "outputs": [
    {
     "data": {
      "text/plain": [
       "0.9740384615384615"
      ]
     },
     "execution_count": 15,
     "metadata": {},
     "output_type": "execute_result"
    }
   ],
   "source": [
    "top_k_number = 5\n",
    "top_k_acc, top_k_results, image_indexes, _ = top_k_calc_from_probas(probas, result_df[\"truth_labels\"].values, top_k_number)\n",
    "result_df[\"in_top_\" + str(top_k_number)] = top_k_results\n",
    "top_k_acc"
   ]
  },
  {
   "cell_type": "markdown",
   "id": "03b771b9",
   "metadata": {},
   "source": [
    "# Text Extraction"
   ]
  },
  {
   "cell_type": "code",
   "execution_count": 16,
   "id": "19cefbf9",
   "metadata": {},
   "outputs": [],
   "source": [
    "dataset_path_train = \"../data/raw/products_leaflets_512/train\"\n",
    "dataset_path_test = \"../data/raw/products_leaflets_512/val_test_split/test\"\n",
    "dataset_path_val = \"../data/raw/products_leaflets_512/val_test_split/val\"\n",
    "save_path = \"../data/processed/ocr-results/pickle/\""
   ]
  },
  {
   "cell_type": "code",
   "execution_count": 17,
   "id": "af373086",
   "metadata": {},
   "outputs": [],
   "source": [
    "df_text_extraction_base = \"paper_extraction\""
   ]
  },
  {
   "cell_type": "code",
   "execution_count": 18,
   "id": "2e870e20",
   "metadata": {},
   "outputs": [
    {
     "name": "stdout",
     "output_type": "stream",
     "text": [
      "CPU times: user 57.4 s, sys: 56.9 ms, total: 57.4 s\n",
      "Wall time: 57.5 s\n"
     ]
    }
   ],
   "source": [
    "%%time\n",
    "res = createFullSortedImageList(dataset_path_train)\n",
    "res.to_pickle(save_path + df_text_extraction_base + \"_train\" + \".pkl\")\n",
    "\n",
    "res = createFullSortedImageList(dataset_path_test)\n",
    "res.to_pickle(save_path + df_text_extraction_base + \"_test\" + \".pkl\")\n",
    "\n",
    "res = createFullSortedImageList(dataset_path_val)\n",
    "res.to_pickle(save_path + df_text_extraction_base + \"_val\" + \".pkl\")\n",
    "del res"
   ]
  },
  {
   "cell_type": "code",
   "execution_count": 18,
   "id": "a7647a91",
   "metadata": {},
   "outputs": [],
   "source": [
    "train_image_df = pd.read_pickle(save_path + df_text_extraction_base + \"_train\" + \".pkl\")\n",
    "test_image_df = pd.read_pickle(save_path + df_text_extraction_base + \"_test\" + \".pkl\")\n",
    "val_image_df = pd.read_pickle(save_path + df_text_extraction_base + \"_val\" + \".pkl\")"
   ]
  },
  {
   "cell_type": "code",
   "execution_count": 19,
   "id": "34fb6619",
   "metadata": {},
   "outputs": [
    {
     "data": {
      "text/html": [
       "<div>\n",
       "<style scoped>\n",
       "    .dataframe tbody tr th:only-of-type {\n",
       "        vertical-align: middle;\n",
       "    }\n",
       "\n",
       "    .dataframe tbody tr th {\n",
       "        vertical-align: top;\n",
       "    }\n",
       "\n",
       "    .dataframe thead th {\n",
       "        text-align: right;\n",
       "    }\n",
       "</style>\n",
       "<table border=\"1\" class=\"dataframe\">\n",
       "  <thead>\n",
       "    <tr style=\"text-align: right;\">\n",
       "      <th></th>\n",
       "      <th>image_id</th>\n",
       "      <th>truth_label</th>\n",
       "    </tr>\n",
       "  </thead>\n",
       "  <tbody>\n",
       "    <tr>\n",
       "      <th>0</th>\n",
       "      <td>0/1.jpg</td>\n",
       "      <td>0</td>\n",
       "    </tr>\n",
       "    <tr>\n",
       "      <th>1</th>\n",
       "      <td>0/2.jpg</td>\n",
       "      <td>0</td>\n",
       "    </tr>\n",
       "    <tr>\n",
       "      <th>2</th>\n",
       "      <td>0/3.jpg</td>\n",
       "      <td>0</td>\n",
       "    </tr>\n",
       "    <tr>\n",
       "      <th>3</th>\n",
       "      <td>0/4.jpg</td>\n",
       "      <td>0</td>\n",
       "    </tr>\n",
       "    <tr>\n",
       "      <th>4</th>\n",
       "      <td>0/5.jpg</td>\n",
       "      <td>0</td>\n",
       "    </tr>\n",
       "  </tbody>\n",
       "</table>\n",
       "</div>"
      ],
      "text/plain": [
       "  image_id truth_label\n",
       "0  0/1.jpg           0\n",
       "1  0/2.jpg           0\n",
       "2  0/3.jpg           0\n",
       "3  0/4.jpg           0\n",
       "4  0/5.jpg           0"
      ]
     },
     "execution_count": 19,
     "metadata": {},
     "output_type": "execute_result"
    }
   ],
   "source": [
    "train_image_df.head()"
   ]
  },
  {
   "cell_type": "markdown",
   "id": "6b88a0c4",
   "metadata": {},
   "source": [
    "## Extract Text - Train Data"
   ]
  },
  {
   "cell_type": "code",
   "execution_count": 23,
   "id": "b432451a",
   "metadata": {},
   "outputs": [],
   "source": [
    "phase = \"train\"\n",
    "image_path = dataset_path_train\n",
    "extract_image_df = train_image_df.copy()\n",
    "extraction_name = df_text_extraction_base + \"_\" + phase + \"_\""
   ]
  },
  {
   "cell_type": "code",
   "execution_count": 24,
   "id": "250291bb",
   "metadata": {},
   "outputs": [],
   "source": [
    "text_preprocessing = prtm.ocrExtraction()"
   ]
  },
  {
   "cell_type": "code",
   "execution_count": 86,
   "id": "0a6466a3",
   "metadata": {},
   "outputs": [],
   "source": [
    "# possibility to select only some methods\n",
    "#text_preprocessing.extraction_methods = text_preprocessing.extraction_methods[0:2]"
   ]
  },
  {
   "cell_type": "code",
   "execution_count": 23,
   "id": "4b9ab612",
   "metadata": {},
   "outputs": [
    {
     "name": "stdout",
     "output_type": "stream",
     "text": [
      "Start: 2023-05-02 16:04:06.516304\n",
      "0 0.0000% - 2023-05-02 16:04:07.598902\n",
      "SHM Folder Size: 1660\n",
      "Clear SHM Directory\n",
      "SHM Folder Size: 40\n",
      "500 0.0150% - 2023-05-02 16:10:51.992724\n",
      "SHM Folder Size: 80040\n",
      "Clear SHM Directory\n",
      "SHM Folder Size: 40\n",
      "1000 0.0300% - 2023-05-02 16:17:45.011630\n",
      "SHM Folder Size: 80040\n",
      "Clear SHM Directory\n",
      "SHM Folder Size: 40\n",
      "1500 0.0451% - 2023-05-02 16:24:33.928575\n",
      "SHM Folder Size: 80040\n",
      "Clear SHM Directory\n",
      "SHM Folder Size: 40\n",
      "2000 0.0601% - 2023-05-02 16:31:27.747568\n",
      "SHM Folder Size: 80040\n",
      "Clear SHM Directory\n",
      "SHM Folder Size: 40\n",
      "2500 0.0751% - 2023-05-02 16:38:30.489893\n",
      "SHM Folder Size: 80040\n",
      "Clear SHM Directory\n",
      "SHM Folder Size: 40\n",
      "3000 0.0901% - 2023-05-02 16:44:59.579235\n",
      "SHM Folder Size: 80040\n",
      "Clear SHM Directory\n",
      "SHM Folder Size: 40\n",
      "3500 0.1052% - 2023-05-02 16:52:16.300995\n",
      "SHM Folder Size: 80040\n",
      "Clear SHM Directory\n",
      "SHM Folder Size: 40\n",
      "4000 0.1202% - 2023-05-02 16:59:26.703472\n",
      "SHM Folder Size: 80040\n",
      "Clear SHM Directory\n",
      "SHM Folder Size: 40\n",
      "4500 0.1352% - 2023-05-02 17:06:18.564824\n",
      "SHM Folder Size: 80040\n",
      "Clear SHM Directory\n",
      "SHM Folder Size: 40\n",
      "5000 0.1502% - 2023-05-02 17:13:29.916060\n",
      "SHM Folder Size: 80040\n",
      "Clear SHM Directory\n",
      "SHM Folder Size: 40\n",
      "5500 0.1653% - 2023-05-02 17:20:36.162032\n",
      "SHM Folder Size: 80040\n",
      "Clear SHM Directory\n",
      "SHM Folder Size: 40\n",
      "6000 0.1803% - 2023-05-02 17:27:44.629981\n",
      "SHM Folder Size: 80040\n",
      "Clear SHM Directory\n",
      "SHM Folder Size: 40\n",
      "6500 0.1953% - 2023-05-02 17:34:40.827357\n",
      "SHM Folder Size: 80040\n",
      "Clear SHM Directory\n",
      "SHM Folder Size: 40\n",
      "7000 0.2103% - 2023-05-02 17:41:32.646609\n",
      "SHM Folder Size: 80040\n",
      "Clear SHM Directory\n",
      "SHM Folder Size: 40\n",
      "7500 0.2254% - 2023-05-02 17:48:43.873685\n",
      "SHM Folder Size: 80040\n",
      "Clear SHM Directory\n",
      "SHM Folder Size: 40\n",
      "8000 0.2404% - 2023-05-02 17:55:58.896504\n",
      "SHM Folder Size: 80040\n",
      "Clear SHM Directory\n",
      "SHM Folder Size: 40\n",
      "8500 0.2554% - 2023-05-02 18:03:18.988241\n",
      "SHM Folder Size: 80040\n",
      "Clear SHM Directory\n",
      "SHM Folder Size: 40\n",
      "9000 0.2704% - 2023-05-02 18:10:22.980418\n",
      "SHM Folder Size: 80040\n",
      "Clear SHM Directory\n",
      "SHM Folder Size: 40\n",
      "9500 0.2855% - 2023-05-02 18:17:13.965932\n",
      "SHM Folder Size: 80040\n",
      "Clear SHM Directory\n",
      "SHM Folder Size: 40\n",
      "10000 0.3005% - 2023-05-02 18:24:17.145771\n",
      "SHM Folder Size: 80040\n",
      "Clear SHM Directory\n",
      "SHM Folder Size: 40\n",
      "10500 0.3155% - 2023-05-02 18:31:16.927911\n",
      "SHM Folder Size: 80040\n",
      "Clear SHM Directory\n",
      "SHM Folder Size: 40\n",
      "11000 0.3305% - 2023-05-02 18:38:18.111820\n",
      "SHM Folder Size: 80040\n",
      "Clear SHM Directory\n",
      "SHM Folder Size: 40\n",
      "11500 0.3456% - 2023-05-02 18:45:28.473017\n",
      "SHM Folder Size: 80040\n",
      "Clear SHM Directory\n",
      "SHM Folder Size: 40\n",
      "12000 0.3606% - 2023-05-02 18:52:22.286277\n",
      "SHM Folder Size: 80040\n",
      "Clear SHM Directory\n",
      "SHM Folder Size: 40\n",
      "12500 0.3756% - 2023-05-02 18:59:19.973552\n",
      "SHM Folder Size: 80040\n",
      "Clear SHM Directory\n",
      "SHM Folder Size: 40\n",
      "13000 0.3906% - 2023-05-02 19:06:27.195851\n",
      "SHM Folder Size: 80040\n",
      "Clear SHM Directory\n",
      "SHM Folder Size: 40\n",
      "13500 0.4056% - 2023-05-02 19:13:34.415978\n",
      "SHM Folder Size: 80040\n",
      "Clear SHM Directory\n",
      "SHM Folder Size: 40\n",
      "14000 0.4207% - 2023-05-02 19:20:38.942773\n",
      "SHM Folder Size: 80040\n",
      "Clear SHM Directory\n",
      "SHM Folder Size: 40\n",
      "14500 0.4357% - 2023-05-02 19:28:07.549731\n",
      "SHM Folder Size: 80040\n",
      "Clear SHM Directory\n",
      "SHM Folder Size: 40\n",
      "15000 0.4507% - 2023-05-02 19:35:31.515650\n",
      "SHM Folder Size: 80040\n",
      "Clear SHM Directory\n",
      "SHM Folder Size: 40\n",
      "15500 0.4657% - 2023-05-02 19:42:27.633067\n",
      "SHM Folder Size: 80040\n",
      "Clear SHM Directory\n",
      "SHM Folder Size: 40\n",
      "16000 0.4808% - 2023-05-02 19:49:35.425199\n",
      "SHM Folder Size: 80040\n",
      "Clear SHM Directory\n",
      "SHM Folder Size: 40\n",
      "16500 0.4958% - 2023-05-02 19:56:42.664298\n",
      "SHM Folder Size: 80040\n",
      "Clear SHM Directory\n",
      "SHM Folder Size: 40\n",
      "17000 0.5108% - 2023-05-02 20:03:38.250445\n",
      "SHM Folder Size: 80040\n",
      "Clear SHM Directory\n",
      "SHM Folder Size: 40\n",
      "17500 0.5258% - 2023-05-02 20:10:32.489590\n",
      "SHM Folder Size: 80040\n",
      "Clear SHM Directory\n",
      "SHM Folder Size: 40\n",
      "18000 0.5409% - 2023-05-02 20:17:29.235318\n",
      "SHM Folder Size: 80040\n",
      "Clear SHM Directory\n",
      "SHM Folder Size: 40\n",
      "18500 0.5559% - 2023-05-02 20:24:47.159178\n",
      "SHM Folder Size: 80040\n",
      "Clear SHM Directory\n",
      "SHM Folder Size: 40\n",
      "19000 0.5709% - 2023-05-02 20:32:24.052117\n",
      "SHM Folder Size: 80040\n",
      "Clear SHM Directory\n",
      "SHM Folder Size: 40\n",
      "19500 0.5859% - 2023-05-02 20:39:24.885955\n",
      "SHM Folder Size: 80040\n",
      "Clear SHM Directory\n",
      "SHM Folder Size: 40\n",
      "20000 0.6010% - 2023-05-02 20:46:51.337900\n",
      "SHM Folder Size: 80040\n",
      "Clear SHM Directory\n",
      "SHM Folder Size: 40\n",
      "20500 0.6160% - 2023-05-02 20:53:58.131512\n",
      "SHM Folder Size: 80040\n",
      "Clear SHM Directory\n",
      "SHM Folder Size: 40\n",
      "21000 0.6310% - 2023-05-02 21:00:59.171760\n",
      "SHM Folder Size: 80040\n",
      "Clear SHM Directory\n",
      "SHM Folder Size: 40\n",
      "21500 0.6460% - 2023-05-02 21:07:58.356287\n",
      "SHM Folder Size: 80040\n",
      "Clear SHM Directory\n",
      "SHM Folder Size: 40\n",
      "22000 0.6611% - 2023-05-02 21:15:27.818443\n",
      "SHM Folder Size: 80040\n",
      "Clear SHM Directory\n",
      "SHM Folder Size: 40\n",
      "22500 0.6761% - 2023-05-02 21:22:46.042324\n",
      "SHM Folder Size: 80040\n",
      "Clear SHM Directory\n",
      "SHM Folder Size: 40\n",
      "23000 0.6911% - 2023-05-02 21:29:34.944479\n",
      "SHM Folder Size: 80040\n",
      "Clear SHM Directory\n",
      "SHM Folder Size: 40\n",
      "23500 0.7061% - 2023-05-02 21:36:36.457753\n",
      "SHM Folder Size: 80040\n",
      "Clear SHM Directory\n",
      "SHM Folder Size: 40\n",
      "24000 0.7212% - 2023-05-02 21:43:30.019498\n",
      "SHM Folder Size: 80040\n",
      "Clear SHM Directory\n",
      "SHM Folder Size: 40\n",
      "24500 0.7362% - 2023-05-02 21:50:55.515981\n",
      "SHM Folder Size: 80040\n",
      "Clear SHM Directory\n",
      "SHM Folder Size: 40\n",
      "25000 0.7512% - 2023-05-02 21:57:56.634430\n",
      "SHM Folder Size: 80040\n",
      "Clear SHM Directory\n",
      "SHM Folder Size: 40\n",
      "25500 0.7662% - 2023-05-02 22:04:54.095661\n",
      "SHM Folder Size: 80040\n",
      "Clear SHM Directory\n",
      "SHM Folder Size: 40\n",
      "26000 0.7812% - 2023-05-02 22:11:49.077049\n",
      "SHM Folder Size: 80040\n",
      "Clear SHM Directory\n",
      "SHM Folder Size: 40\n",
      "26500 0.7963% - 2023-05-02 22:18:44.142766\n",
      "SHM Folder Size: 80040\n",
      "Clear SHM Directory\n",
      "SHM Folder Size: 40\n",
      "27000 0.8113% - 2023-05-02 22:25:51.371512\n",
      "SHM Folder Size: 80040\n",
      "Clear SHM Directory\n",
      "SHM Folder Size: 40\n",
      "27500 0.8263% - 2023-05-02 22:32:45.151345\n",
      "SHM Folder Size: 80040\n",
      "Clear SHM Directory\n",
      "SHM Folder Size: 40\n",
      "28000 0.8413% - 2023-05-02 22:39:48.895269\n",
      "SHM Folder Size: 80040\n",
      "Clear SHM Directory\n",
      "SHM Folder Size: 40\n",
      "28500 0.8564% - 2023-05-02 22:47:18.440839\n",
      "SHM Folder Size: 80040\n",
      "Clear SHM Directory\n",
      "SHM Folder Size: 40\n",
      "29000 0.8714% - 2023-05-02 22:54:43.600558\n",
      "SHM Folder Size: 80040\n",
      "Clear SHM Directory\n",
      "SHM Folder Size: 40\n",
      "29500 0.8864% - 2023-05-02 23:02:01.265651\n",
      "SHM Folder Size: 80040\n",
      "Clear SHM Directory\n",
      "SHM Folder Size: 40\n",
      "30000 0.9014% - 2023-05-02 23:09:15.516003\n",
      "SHM Folder Size: 80040\n",
      "Clear SHM Directory\n",
      "SHM Folder Size: 40\n",
      "30500 0.9165% - 2023-05-02 23:16:28.393788\n",
      "SHM Folder Size: 80040\n",
      "Clear SHM Directory\n",
      "SHM Folder Size: 40\n",
      "31000 0.9315% - 2023-05-02 23:23:23.584309\n",
      "SHM Folder Size: 80040\n",
      "Clear SHM Directory\n",
      "SHM Folder Size: 40\n",
      "31500 0.9465% - 2023-05-02 23:30:42.354317\n",
      "SHM Folder Size: 80040\n",
      "Clear SHM Directory\n",
      "SHM Folder Size: 40\n",
      "32000 0.9615% - 2023-05-02 23:37:59.930460\n",
      "SHM Folder Size: 80040\n",
      "Clear SHM Directory\n",
      "SHM Folder Size: 40\n",
      "32500 0.9766% - 2023-05-02 23:44:45.945129\n",
      "SHM Folder Size: 80040\n",
      "Clear SHM Directory\n",
      "SHM Folder Size: 40\n",
      "33000 0.9916% - 2023-05-02 23:52:00.327707\n",
      "SHM Folder Size: 80040\n",
      "Clear SHM Directory\n",
      "SHM Folder Size: 40\n",
      "End: 2023-05-02 23:55:46.350781\n",
      "Duration: 7:51:39.834477\n"
     ]
    }
   ],
   "source": [
    "extract_text_from_imagepath_df(text_preprocessing, image_path, extract_image_df, \n",
    "                               extraction_name = df_text_extraction_base, phase=phase, save_interval=500)"
   ]
  },
  {
   "cell_type": "code",
   "execution_count": 25,
   "id": "a4eb3498",
   "metadata": {},
   "outputs": [],
   "source": [
    "tempDF = pd.read_pickle(save_path + extraction_name + \"_complete\" + \".pkl\")"
   ]
  },
  {
   "cell_type": "code",
   "execution_count": 26,
   "id": "569e2b40",
   "metadata": {},
   "outputs": [],
   "source": [
    "# add image_id and truth label to extraction df\n",
    "tempDF[\"image_id\"] = train_image_df[\"image_id\"]\n",
    "tempDF[\"truth_labels\"] = train_image_df[\"truth_label\"]\n",
    "\n",
    "#combine all extracted strings \n",
    "tempDF[\"ocr_all\"] = \"\"\n",
    "for i in tempDF.columns:\n",
    "    if i.startswith(\"ocr_extract\"):\n",
    "        tempDF[\"ocr_all\"] = tempDF[\"ocr_all\"] + \" \" + tempDF[i]"
   ]
  },
  {
   "cell_type": "code",
   "execution_count": 27,
   "id": "27587ae8",
   "metadata": {},
   "outputs": [],
   "source": [
    "main_extraction_df = tempDF[[\"extraction_id\", \"image_id\", \"truth_labels\", \"ocr_all\"]].copy()\n",
    "main_extraction_df.to_pickle(save_path + extraction_name + \"_main\" + \".pkl\")"
   ]
  },
  {
   "cell_type": "code",
   "execution_count": 28,
   "id": "7b45fd9f",
   "metadata": {},
   "outputs": [
    {
     "data": {
      "text/html": [
       "<div>\n",
       "<style scoped>\n",
       "    .dataframe tbody tr th:only-of-type {\n",
       "        vertical-align: middle;\n",
       "    }\n",
       "\n",
       "    .dataframe tbody tr th {\n",
       "        vertical-align: top;\n",
       "    }\n",
       "\n",
       "    .dataframe thead th {\n",
       "        text-align: right;\n",
       "    }\n",
       "</style>\n",
       "<table border=\"1\" class=\"dataframe\">\n",
       "  <thead>\n",
       "    <tr style=\"text-align: right;\">\n",
       "      <th></th>\n",
       "      <th>extraction_id</th>\n",
       "      <th>image_id</th>\n",
       "      <th>truth_labels</th>\n",
       "      <th>ocr_all</th>\n",
       "    </tr>\n",
       "  </thead>\n",
       "  <tbody>\n",
       "    <tr>\n",
       "      <th>0</th>\n",
       "      <td>0</td>\n",
       "      <td>0/1.jpg</td>\n",
       "      <td>0</td>\n",
       "      <td>| Rügen Fisch\\n| Scomher Mix\\n\\n  \\n\\n    \\n ...</td>\n",
       "    </tr>\n",
       "    <tr>\n",
       "      <th>1</th>\n",
       "      <td>1</td>\n",
       "      <td>0/2.jpg</td>\n",
       "      <td>0</td>\n",
       "      <td>‚dene Sorten, 120 g Dose,\\n100 g = 0,66\\n\\n \\...</td>\n",
       "    </tr>\n",
       "    <tr>\n",
       "      <th>2</th>\n",
       "      <td>2</td>\n",
       "      <td>0/3.jpg</td>\n",
       "      <td>0</td>\n",
       "      <td>\\n  \\n\\n    \\n\\nPe 9\\n2\\nRügenfisch\\nScomber...</td>\n",
       "    </tr>\n",
       "    <tr>\n",
       "      <th>3</th>\n",
       "      <td>3</td>\n",
       "      <td>0/4.jpg</td>\n",
       "      <td>0</td>\n",
       "      <td>Rügenfisch\\nScomber Mix\\nMakrelenfilets in Ma...</td>\n",
       "    </tr>\n",
       "    <tr>\n",
       "      <th>4</th>\n",
       "      <td>4</td>\n",
       "      <td>0/5.jpg</td>\n",
       "      <td>0</td>\n",
       "      <td>\\n\\naus Norddeutschland\\n\\nRügenfFisch\\nScom...</td>\n",
       "    </tr>\n",
       "  </tbody>\n",
       "</table>\n",
       "</div>"
      ],
      "text/plain": [
       "  extraction_id image_id truth_labels  \\\n",
       "0             0  0/1.jpg            0   \n",
       "1             1  0/2.jpg            0   \n",
       "2             2  0/3.jpg            0   \n",
       "3             3  0/4.jpg            0   \n",
       "4             4  0/5.jpg            0   \n",
       "\n",
       "                                             ocr_all  \n",
       "0   | Rügen Fisch\\n| Scomher Mix\\n\\n  \\n\\n    \\n ...  \n",
       "1   ‚dene Sorten, 120 g Dose,\\n100 g = 0,66\\n\\n \\...  \n",
       "2    \\n  \\n\\n    \\n\\nPe 9\\n2\\nRügenfisch\\nScomber...  \n",
       "3   Rügenfisch\\nScomber Mix\\nMakrelenfilets in Ma...  \n",
       "4    \\n\\naus Norddeutschland\\n\\nRügenfFisch\\nScom...  "
      ]
     },
     "execution_count": 28,
     "metadata": {},
     "output_type": "execute_result"
    }
   ],
   "source": [
    "main_extraction_df.head()"
   ]
  },
  {
   "cell_type": "code",
   "execution_count": 29,
   "id": "32077d53",
   "metadata": {},
   "outputs": [],
   "source": [
    "del tempDF \n",
    "del main_extraction_df"
   ]
  },
  {
   "cell_type": "markdown",
   "id": "f77c0237",
   "metadata": {},
   "source": [
    "## Extract Text - Val Data"
   ]
  },
  {
   "cell_type": "code",
   "execution_count": 30,
   "id": "90a01485",
   "metadata": {},
   "outputs": [],
   "source": [
    "phase = \"val\"\n",
    "image_path = dataset_path_val\n",
    "extract_image_df = val_image_df.copy()\n",
    "extraction_name = df_text_extraction_base + \"_\" + phase + \"_\""
   ]
  },
  {
   "cell_type": "code",
   "execution_count": 31,
   "id": "6632d9cd",
   "metadata": {},
   "outputs": [],
   "source": [
    "text_preprocessing = prtm.ocrExtraction()"
   ]
  },
  {
   "cell_type": "code",
   "execution_count": 23,
   "id": "7bc424f4",
   "metadata": {},
   "outputs": [],
   "source": [
    "# possibility to select only some methods\n",
    "#text_preprocessing.extraction_methods = text_preprocessing.extraction_methods[0:2]"
   ]
  },
  {
   "cell_type": "code",
   "execution_count": 24,
   "id": "ee290df0",
   "metadata": {},
   "outputs": [
    {
     "name": "stdout",
     "output_type": "stream",
     "text": [
      "Start: 2023-05-03 11:32:10.758050\n",
      "0 0.0000% - 2023-05-03 11:32:11.814647\n",
      "SHM Folder Size: 1660\n",
      "Clear SHM Directory\n",
      "SHM Folder Size: 40\n",
      "500 0.1202% - 2023-05-03 11:39:30.957451\n",
      "SHM Folder Size: 80040\n",
      "Clear SHM Directory\n",
      "SHM Folder Size: 40\n",
      "1000 0.2404% - 2023-05-03 11:46:50.576338\n",
      "SHM Folder Size: 80040\n",
      "Clear SHM Directory\n",
      "SHM Folder Size: 40\n",
      "1500 0.3606% - 2023-05-03 11:54:00.481421\n",
      "SHM Folder Size: 80040\n",
      "Clear SHM Directory\n",
      "SHM Folder Size: 40\n",
      "2000 0.4808% - 2023-05-03 12:01:03.185302\n",
      "SHM Folder Size: 80040\n",
      "Clear SHM Directory\n",
      "SHM Folder Size: 40\n",
      "2500 0.6010% - 2023-05-03 12:08:09.931007\n",
      "SHM Folder Size: 80040\n",
      "Clear SHM Directory\n",
      "SHM Folder Size: 40\n",
      "3000 0.7212% - 2023-05-03 12:15:13.867232\n",
      "SHM Folder Size: 80040\n",
      "Clear SHM Directory\n",
      "SHM Folder Size: 40\n",
      "3500 0.8413% - 2023-05-03 12:22:25.155367\n",
      "SHM Folder Size: 80040\n",
      "Clear SHM Directory\n",
      "SHM Folder Size: 40\n",
      "4000 0.9615% - 2023-05-03 12:29:29.872711\n",
      "SHM Folder Size: 80040\n",
      "Clear SHM Directory\n",
      "SHM Folder Size: 40\n",
      "End: 2023-05-03 12:31:41.943182\n",
      "Duration: 0:59:31.185132\n"
     ]
    }
   ],
   "source": [
    "extract_text_from_imagepath_df(text_preprocessing, image_path, extract_image_df, \n",
    "                               extraction_name = df_text_extraction_base, phase=phase, save_interval=500)"
   ]
  },
  {
   "cell_type": "code",
   "execution_count": 32,
   "id": "ba63a0b1",
   "metadata": {},
   "outputs": [],
   "source": [
    "tempDF = pd.read_pickle(save_path + extraction_name + \"_complete\" + \".pkl\")"
   ]
  },
  {
   "cell_type": "code",
   "execution_count": 34,
   "id": "6751bef9",
   "metadata": {},
   "outputs": [],
   "source": [
    "# add image_id and truth label to extraction df\n",
    "tempDF[\"image_id\"] = val_image_df[\"image_id\"]\n",
    "tempDF[\"truth_labels\"] = val_image_df[\"truth_label\"]\n",
    "\n",
    "#combine all extracted strings \n",
    "tempDF[\"ocr_all\"] = \"\"\n",
    "for i in tempDF.columns:\n",
    "    if i.startswith(\"ocr_extract\"):\n",
    "        tempDF[\"ocr_all\"] = tempDF[\"ocr_all\"] + \" \" + tempDF[i]"
   ]
  },
  {
   "cell_type": "code",
   "execution_count": 35,
   "id": "190c2fd8",
   "metadata": {},
   "outputs": [],
   "source": [
    "main_extraction_df = tempDF[[\"extraction_id\", \"image_id\", \"truth_labels\", \"ocr_all\"]].copy()\n",
    "main_extraction_df.to_pickle(save_path + extraction_name + \"_main\" + \".pkl\")"
   ]
  },
  {
   "cell_type": "code",
   "execution_count": 36,
   "id": "c0f94589",
   "metadata": {},
   "outputs": [
    {
     "data": {
      "text/html": [
       "<div>\n",
       "<style scoped>\n",
       "    .dataframe tbody tr th:only-of-type {\n",
       "        vertical-align: middle;\n",
       "    }\n",
       "\n",
       "    .dataframe tbody tr th {\n",
       "        vertical-align: top;\n",
       "    }\n",
       "\n",
       "    .dataframe thead th {\n",
       "        text-align: right;\n",
       "    }\n",
       "</style>\n",
       "<table border=\"1\" class=\"dataframe\">\n",
       "  <thead>\n",
       "    <tr style=\"text-align: right;\">\n",
       "      <th></th>\n",
       "      <th>extraction_id</th>\n",
       "      <th>image_id</th>\n",
       "      <th>truth_labels</th>\n",
       "      <th>ocr_all</th>\n",
       "    </tr>\n",
       "  </thead>\n",
       "  <tbody>\n",
       "    <tr>\n",
       "      <th>0</th>\n",
       "      <td>0</td>\n",
       "      <td>0/0.jpg</td>\n",
       "      <td>0</td>\n",
       "      <td>\\n\\nScanber Mix\\n\\n \\n \\n      \\n\\n \\n \\n ...</td>\n",
       "    </tr>\n",
       "    <tr>\n",
       "      <th>1</th>\n",
       "      <td>1</td>\n",
       "      <td>0/17.jpg</td>\n",
       "      <td>0</td>\n",
       "      <td>\\n\\nRügenFisch\\nScomber Mix\\n\\nMakrelenfilet...</td>\n",
       "    </tr>\n",
       "    <tr>\n",
       "      <th>2</th>\n",
       "      <td>2</td>\n",
       "      <td>0/18.jpg</td>\n",
       "      <td>0</td>\n",
       "      <td>\\n\\nRügenFisch\\nScomber Mix\\n\\nMakrelenfilet...</td>\n",
       "    </tr>\n",
       "    <tr>\n",
       "      <th>3</th>\n",
       "      <td>3</td>\n",
       "      <td>0/19.jpg</td>\n",
       "      <td>0</td>\n",
       "      <td>\\n\\nRügenFisch\\nScomber Mix\\n\\nMakrelenfilet...</td>\n",
       "    </tr>\n",
       "    <tr>\n",
       "      <th>4</th>\n",
       "      <td>4</td>\n",
       "      <td>0/24.jpg</td>\n",
       "      <td>0</td>\n",
       "      <td>\\n \\n\\nScomber Mir\\n\f\n",
       "  \\n\f\n",
       " u r nn\\nf en P...</td>\n",
       "    </tr>\n",
       "  </tbody>\n",
       "</table>\n",
       "</div>"
      ],
      "text/plain": [
       "  extraction_id  image_id truth_labels  \\\n",
       "0             0   0/0.jpg            0   \n",
       "1             1  0/17.jpg            0   \n",
       "2             2  0/18.jpg            0   \n",
       "3             3  0/19.jpg            0   \n",
       "4             4  0/24.jpg            0   \n",
       "\n",
       "                                             ocr_all  \n",
       "0      \\n\\nScanber Mix\\n\\n \\n \\n      \\n\\n \\n \\n ...  \n",
       "1    \\n\\nRügenFisch\\nScomber Mix\\n\\nMakrelenfilet...  \n",
       "2    \\n\\nRügenFisch\\nScomber Mix\\n\\nMakrelenfilet...  \n",
       "3    \\n\\nRügenFisch\\nScomber Mix\\n\\nMakrelenfilet...  \n",
       "4       \\n \\n\\nScomber Mir\\n\n",
       "  \\n\n",
       " u r nn\\nf en P...  "
      ]
     },
     "execution_count": 36,
     "metadata": {},
     "output_type": "execute_result"
    }
   ],
   "source": [
    "main_extraction_df.head()"
   ]
  },
  {
   "cell_type": "code",
   "execution_count": 37,
   "id": "6d42f558",
   "metadata": {},
   "outputs": [],
   "source": [
    "del tempDF \n",
    "del main_extraction_df"
   ]
  },
  {
   "cell_type": "markdown",
   "id": "23a3286f",
   "metadata": {},
   "source": [
    "## Extract Text - Test Data"
   ]
  },
  {
   "cell_type": "code",
   "execution_count": 38,
   "id": "edd09196",
   "metadata": {},
   "outputs": [],
   "source": [
    "phase = \"test\"\n",
    "image_path = dataset_path_test\n",
    "extract_image_df = test_image_df.copy()\n",
    "extraction_name = df_text_extraction_base + \"_\" + phase + \"_\""
   ]
  },
  {
   "cell_type": "code",
   "execution_count": 39,
   "id": "5eecbd6b",
   "metadata": {},
   "outputs": [],
   "source": [
    "text_preprocessing = prtm.ocrExtraction()"
   ]
  },
  {
   "cell_type": "code",
   "execution_count": 41,
   "id": "308ac019",
   "metadata": {},
   "outputs": [],
   "source": [
    "# possibility to select only some methods\n",
    "#text_preprocessing.extraction_methods = text_preprocessing.extraction_methods[0:2]"
   ]
  },
  {
   "cell_type": "code",
   "execution_count": 32,
   "id": "f3bb0068",
   "metadata": {},
   "outputs": [
    {
     "name": "stdout",
     "output_type": "stream",
     "text": [
      "Start: 2023-05-03 12:31:42.136751\n",
      "0 0.0000% - 2023-05-03 12:31:42.853512\n",
      "SHM Folder Size: 25640\n",
      "Clear SHM Directory\n",
      "SHM Folder Size: 40\n",
      "500 0.1202% - 2023-05-03 12:38:45.935670\n",
      "SHM Folder Size: 80040\n",
      "Clear SHM Directory\n",
      "SHM Folder Size: 40\n",
      "1000 0.2404% - 2023-05-03 12:45:51.913785\n",
      "SHM Folder Size: 80040\n",
      "Clear SHM Directory\n",
      "SHM Folder Size: 40\n",
      "1500 0.3606% - 2023-05-03 12:53:00.313456\n",
      "SHM Folder Size: 80040\n",
      "Clear SHM Directory\n",
      "SHM Folder Size: 40\n",
      "2000 0.4808% - 2023-05-03 13:00:07.564043\n",
      "SHM Folder Size: 80040\n",
      "Clear SHM Directory\n",
      "SHM Folder Size: 40\n",
      "2500 0.6010% - 2023-05-03 13:07:15.079515\n",
      "SHM Folder Size: 80040\n",
      "Clear SHM Directory\n",
      "SHM Folder Size: 40\n",
      "3000 0.7212% - 2023-05-03 13:14:19.391341\n",
      "SHM Folder Size: 80040\n",
      "Clear SHM Directory\n",
      "SHM Folder Size: 40\n",
      "3500 0.8413% - 2023-05-03 13:21:24.878409\n",
      "SHM Folder Size: 80040\n",
      "Clear SHM Directory\n",
      "SHM Folder Size: 40\n",
      "4000 0.9615% - 2023-05-03 13:28:34.990998\n",
      "SHM Folder Size: 80040\n",
      "Clear SHM Directory\n",
      "SHM Folder Size: 40\n",
      "End: 2023-05-03 13:30:48.267579\n",
      "Duration: 0:59:06.130828\n"
     ]
    }
   ],
   "source": [
    "extract_text_from_imagepath_df(text_preprocessing, image_path, extract_image_df, \n",
    "                               extraction_name = df_text_extraction_base, phase=phase, save_interval=500)"
   ]
  },
  {
   "cell_type": "code",
   "execution_count": 40,
   "id": "c2190b2a",
   "metadata": {},
   "outputs": [],
   "source": [
    "tempDF = pd.read_pickle(save_path + extraction_name + \"_complete\" + \".pkl\")"
   ]
  },
  {
   "cell_type": "code",
   "execution_count": 41,
   "id": "b4b2d801",
   "metadata": {},
   "outputs": [],
   "source": [
    "# add image_id and truth label to extraction df\n",
    "tempDF[\"image_id\"] = test_image_df[\"image_id\"]\n",
    "tempDF[\"truth_labels\"] = test_image_df[\"truth_label\"]\n",
    "\n",
    "#combine all extracted strings \n",
    "tempDF[\"ocr_all\"] = \"\"\n",
    "for i in tempDF.columns:\n",
    "    if i.startswith(\"ocr_extract\"):\n",
    "        tempDF[\"ocr_all\"] = tempDF[\"ocr_all\"] + \" \" + tempDF[i]"
   ]
  },
  {
   "cell_type": "code",
   "execution_count": 42,
   "id": "f8443fbd",
   "metadata": {},
   "outputs": [],
   "source": [
    "main_extraction_df = tempDF[[\"extraction_id\", \"image_id\", \"truth_labels\", \"ocr_all\"]].copy()\n",
    "main_extraction_df.to_pickle(save_path + extraction_name + \"_main\" + \".pkl\")"
   ]
  },
  {
   "cell_type": "code",
   "execution_count": 43,
   "id": "931889a7",
   "metadata": {},
   "outputs": [
    {
     "data": {
      "text/html": [
       "<div>\n",
       "<style scoped>\n",
       "    .dataframe tbody tr th:only-of-type {\n",
       "        vertical-align: middle;\n",
       "    }\n",
       "\n",
       "    .dataframe tbody tr th {\n",
       "        vertical-align: top;\n",
       "    }\n",
       "\n",
       "    .dataframe thead th {\n",
       "        text-align: right;\n",
       "    }\n",
       "</style>\n",
       "<table border=\"1\" class=\"dataframe\">\n",
       "  <thead>\n",
       "    <tr style=\"text-align: right;\">\n",
       "      <th></th>\n",
       "      <th>extraction_id</th>\n",
       "      <th>image_id</th>\n",
       "      <th>truth_labels</th>\n",
       "      <th>ocr_all</th>\n",
       "    </tr>\n",
       "  </thead>\n",
       "  <tbody>\n",
       "    <tr>\n",
       "      <th>0</th>\n",
       "      <td>0</td>\n",
       "      <td>0/25.jpg</td>\n",
       "      <td>0</td>\n",
       "      <td>\\n\f\n",
       "  \\n\f\n",
       " &gt;\\n\\nScomberiiit\\n\\n-1%\\n\\n86\\n\f\n",
       " &gt;\\...</td>\n",
       "    </tr>\n",
       "    <tr>\n",
       "      <th>1</th>\n",
       "      <td>1</td>\n",
       "      <td>0/26.jpg</td>\n",
       "      <td>0</td>\n",
       "      <td>2\\nIR\\n\\naus Sasentz in Scomber\\nMecklenburg\\...</td>\n",
       "    </tr>\n",
       "    <tr>\n",
       "      <th>2</th>\n",
       "      <td>2</td>\n",
       "      <td>0/47.jpg</td>\n",
       "      <td>0</td>\n",
       "      <td>\\n\\nstatt 2.97\\n\\n \\n\f\n",
       "  \\n\f\n",
       " De - FE\\nA er\\...</td>\n",
       "    </tr>\n",
       "    <tr>\n",
       "      <th>3</th>\n",
       "      <td>3</td>\n",
       "      <td>0/48.jpg</td>\n",
       "      <td>0</td>\n",
       "      <td>\\n\\nScomber Mix\\n\\nwersch. Sörtem,\\n\\n#0 Abt...</td>\n",
       "    </tr>\n",
       "    <tr>\n",
       "      <th>4</th>\n",
       "      <td>4</td>\n",
       "      <td>0/49.jpg</td>\n",
       "      <td>0</td>\n",
       "      <td>\\n\\nRügenfisch\\nScomber Mix\\nversch. Sorte...</td>\n",
       "    </tr>\n",
       "  </tbody>\n",
       "</table>\n",
       "</div>"
      ],
      "text/plain": [
       "  extraction_id  image_id truth_labels  \\\n",
       "0             0  0/25.jpg            0   \n",
       "1             1  0/26.jpg            0   \n",
       "2             2  0/47.jpg            0   \n",
       "3             3  0/48.jpg            0   \n",
       "4             4  0/49.jpg            0   \n",
       "\n",
       "                                             ocr_all  \n",
       "0    \\n\n",
       "  \\n\n",
       " >\\n\\nScomberiiit\\n\\n-1%\\n\\n86\\n\n",
       " >\\...  \n",
       "1   2\\nIR\\n\\naus Sasentz in Scomber\\nMecklenburg\\...  \n",
       "2      \\n\\nstatt 2.97\\n\\n \\n\n",
       "  \\n\n",
       " De - FE\\nA er\\...  \n",
       "3    \\n\\nScomber Mix\\n\\nwersch. Sörtem,\\n\\n#0 Abt...  \n",
       "4      \\n\\nRügenfisch\\nScomber Mix\\nversch. Sorte...  "
      ]
     },
     "execution_count": 43,
     "metadata": {},
     "output_type": "execute_result"
    }
   ],
   "source": [
    "main_extraction_df.head()"
   ]
  },
  {
   "cell_type": "code",
   "execution_count": 44,
   "id": "0cfa2c33",
   "metadata": {},
   "outputs": [],
   "source": [
    "del tempDF \n",
    "del main_extraction_df"
   ]
  },
  {
   "cell_type": "markdown",
   "id": "f5294cec",
   "metadata": {},
   "source": [
    "# Text Model"
   ]
  },
  {
   "cell_type": "code",
   "execution_count": 46,
   "id": "2487874f",
   "metadata": {},
   "outputs": [],
   "source": [
    "save_path = \"../../data/processed/ocr-results/pickle/\"\n",
    "df_train = pd.read_pickle(save_path + df_text_extraction_base + \"_\" + \"train\" + \"_\" + \"_main\" + \".pkl\")\n",
    "df_val =  pd.read_pickle(save_path + df_text_extraction_base + \"_\" + \"val\" + \"_\" + \"_main\" + \".pkl\")\n",
    "df_test =  pd.read_pickle(save_path + df_text_extraction_base + \"_\" + \"test\" + \"_\" + \"_main\" + \".pkl\")\n",
    "\n",
    "df_train[\"truth_labels\"] = df_train[\"truth_labels\"].astype(str)\n",
    "df_val[\"truth_labels\"] = df_val[\"truth_labels\"].astype(str)\n",
    "df_test[\"truth_labels\"] = df_test[\"truth_labels\"].astype(str)"
   ]
  },
  {
   "cell_type": "code",
   "execution_count": 47,
   "id": "ea6b8f09",
   "metadata": {},
   "outputs": [
    {
     "data": {
      "text/plain": [
       "SGDClassifier(eta0=1, learning_rate='adaptive', loss='modified_huber',\n",
       "              random_state=0)"
      ]
     },
     "execution_count": 47,
     "metadata": {},
     "output_type": "execute_result"
    }
   ],
   "source": [
    "text_model = prtm.productRecognitionTextModel()\n",
    "text_model.train_vocab(df_train[\"ocr_all\"])\n",
    "text_model.train(text_model.transform(df_train[\"ocr_all\"]), df_train[\"truth_labels\"])"
   ]
  },
  {
   "cell_type": "code",
   "execution_count": null,
   "id": "69892f37",
   "metadata": {},
   "outputs": [],
   "source": [
    "#save model\n",
    "#with open('../src/models/weights/text_model_save.pkl','wb') as f:\n",
    "#    pickle.dump(text_model,f)"
   ]
  },
  {
   "cell_type": "code",
   "execution_count": null,
   "id": "21639e72",
   "metadata": {},
   "outputs": [],
   "source": [
    "# load Text model\n",
    "#with open('../src/models/weights/text_model_save.pkl', 'rb') as f:\n",
    "#    text_model = pickle.load(f)"
   ]
  },
  {
   "cell_type": "code",
   "execution_count": 48,
   "id": "dc1758a3",
   "metadata": {},
   "outputs": [],
   "source": [
    "df_text_pred = df_val.copy()"
   ]
  },
  {
   "cell_type": "code",
   "execution_count": 49,
   "id": "001671ce",
   "metadata": {},
   "outputs": [],
   "source": [
    "#sort to adjust order to image dataloader prediction\n",
    "df_text_pred = df_text_pred.sort_values(\"image_id\").reset_index(drop=True)\n",
    "\n",
    "truth_indexes = []\n",
    "for i in df_text_pred[\"truth_labels\"].values:\n",
    "    truth_indexes.append(selected_dataloader.dataset.class_to_idx[i])\n",
    "df_text_pred[\"truth_labels\"] = truth_indexes"
   ]
  },
  {
   "cell_type": "code",
   "execution_count": 50,
   "id": "7226aa48",
   "metadata": {},
   "outputs": [],
   "source": [
    "transformation = text_model.transform(df_text_pred[\"ocr_all\"])\n",
    "text_preds = text_model.predict(transformation)\n",
    "text_probas = text_model.model.predict_proba(transformation)\n",
    "text_dec_probas = text_model.model.decision_function(transformation)"
   ]
  },
  {
   "cell_type": "code",
   "execution_count": 51,
   "id": "674c15f8",
   "metadata": {},
   "outputs": [
    {
     "data": {
      "text/plain": [
       "0.9264423076923077"
      ]
     },
     "execution_count": 51,
     "metadata": {},
     "output_type": "execute_result"
    }
   ],
   "source": [
    "top_k_number = 1\n",
    "top_k_acc, top_k_results, text_indexes, _ = top_k_calc_from_probas(text_dec_probas, df_text_pred[\"truth_labels\"].values, top_k_number)\n",
    "result_df[\"in_top_\" + str(top_k_number)] = top_k_results\n",
    "top_k_acc"
   ]
  },
  {
   "cell_type": "markdown",
   "id": "b7802d79",
   "metadata": {},
   "source": [
    "# Model Combination"
   ]
  },
  {
   "cell_type": "code",
   "execution_count": 52,
   "id": "85cc64cb",
   "metadata": {},
   "outputs": [
    {
     "name": "stdout",
     "output_type": "stream",
     "text": [
      "1 0.9288461538461539\n",
      "2 0.9288461538461539\n",
      "3 0.9288461538461539\n",
      "4 0.9288461538461539\n",
      "5 0.9290865384615384\n",
      "6 0.9290865384615384\n",
      "7 0.9290865384615384\n",
      "8 0.9293269230769231\n",
      "9 0.9293269230769231\n",
      "10 0.9295673076923077\n",
      "11 0.9302884615384616\n",
      "12 0.9307692307692308\n",
      "13 0.9314903846153846\n",
      "14 0.932451923076923\n",
      "15 0.9334134615384615\n",
      "16 0.9346153846153846\n",
      "17 0.9360576923076923\n",
      "18 0.9375\n",
      "19 0.9389423076923077\n",
      "20 0.9401442307692308\n",
      "21 0.9411057692307693\n",
      "22 0.9427884615384615\n",
      "23 0.9435096153846154\n",
      "24 0.9449519230769231\n",
      "25 0.9456730769230769\n",
      "26 0.9459134615384616\n",
      "27 0.9473557692307693\n",
      "28 0.948076923076923\n",
      "29 0.9492788461538462\n",
      "30 0.95\n",
      "31 0.9504807692307692\n",
      "32 0.9509615384615384\n",
      "33 0.9526442307692308\n",
      "34 0.9533653846153847\n",
      "35 0.9543269230769231\n",
      "36 0.9545673076923077\n",
      "37 0.9557692307692308\n",
      "38 0.9567307692307693\n",
      "39 0.9569711538461538\n",
      "40 0.9576923076923077\n",
      "41 0.9584134615384615\n",
      "42 0.9591346153846154\n",
      "43 0.959375\n",
      "44 0.9600961538461539\n",
      "45 0.9600961538461539\n",
      "46 0.9603365384615384\n",
      "47 0.9603365384615384\n",
      "48 0.9608173076923077\n",
      "49 0.9608173076923077\n",
      "50 0.9608173076923077\n",
      "51 0.9610576923076923\n",
      "52 0.9612980769230769\n",
      "53 0.9615384615384616\n",
      "54 0.9617788461538461\n",
      "55 0.9615384615384616\n",
      "56 0.9615384615384616\n",
      "57 0.9625\n",
      "58 0.9627403846153846\n",
      "59 0.9632211538461538\n",
      "60 0.9632211538461538\n",
      "61 0.9639423076923077\n",
      "62 0.9639423076923077\n",
      "63 0.9646634615384615\n",
      "64 0.9651442307692307\n",
      "65 0.9651442307692307\n",
      "66 0.9653846153846154\n",
      "67 0.965625\n",
      "68 0.9661057692307692\n",
      "69 0.9670673076923076\n",
      "70 0.9673076923076923\n",
      "71 0.9673076923076923\n",
      "72 0.9673076923076923\n",
      "73 0.9673076923076923\n",
      "74 0.9670673076923076\n",
      "75 0.9670673076923076\n",
      "76 0.9673076923076923\n",
      "77 0.9675480769230769\n",
      "78 0.9677884615384615\n",
      "79 0.9677884615384615\n",
      "80 0.9677884615384615\n",
      "81 0.9675480769230769\n",
      "82 0.9675480769230769\n",
      "83 0.9675480769230769\n",
      "84 0.9673076923076923\n",
      "85 0.9673076923076923\n",
      "86 0.9673076923076923\n",
      "87 0.9677884615384615\n",
      "88 0.9685096153846153\n",
      "89 0.9685096153846153\n",
      "90 0.9682692307692308\n",
      "91 0.9680288461538461\n",
      "92 0.9682692307692308\n",
      "93 0.9685096153846153\n",
      "94 0.96875\n",
      "95 0.96875\n",
      "96 0.96875\n",
      "97 0.9680288461538461\n",
      "98 0.9682692307692308\n",
      "99 0.9680288461538461\n",
      "100 0.9675480769230769\n",
      "101 0.9673076923076923\n",
      "102 0.9668269230769231\n",
      "103 0.9670673076923076\n",
      "104 0.9668269230769231\n",
      "105 0.9670673076923076\n",
      "106 0.9668269230769231\n",
      "107 0.9668269230769231\n",
      "108 0.9663461538461539\n",
      "109 0.9663461538461539\n",
      "110 0.9663461538461539\n",
      "111 0.9663461538461539\n",
      "112 0.9658653846153846\n",
      "113 0.9661057692307692\n",
      "114 0.9661057692307692\n",
      "115 0.9661057692307692\n",
      "116 0.9661057692307692\n",
      "117 0.965625\n",
      "118 0.9653846153846154\n",
      "119 0.9653846153846154\n",
      "120 0.965625\n",
      "121 0.965625\n",
      "122 0.9651442307692307\n",
      "123 0.9651442307692307\n",
      "124 0.9651442307692307\n",
      "125 0.9651442307692307\n",
      "126 0.965625\n",
      "127 0.965625\n",
      "128 0.965625\n",
      "129 0.9658653846153846\n",
      "130 0.9658653846153846\n",
      "131 0.9661057692307692\n",
      "132 0.9658653846153846\n",
      "133 0.9661057692307692\n",
      "134 0.9661057692307692\n",
      "135 0.9661057692307692\n",
      "136 0.9658653846153846\n",
      "137 0.9658653846153846\n",
      "138 0.965625\n",
      "139 0.965625\n",
      "140 0.9653846153846154\n",
      "141 0.965625\n",
      "142 0.9658653846153846\n",
      "143 0.965625\n",
      "144 0.965625\n",
      "145 0.965625\n",
      "146 0.965625\n",
      "147 0.9649038461538462\n",
      "148 0.9644230769230769\n",
      "149 0.9644230769230769\n",
      "150 0.9644230769230769\n",
      "151 0.9644230769230769\n",
      "152 0.9641826923076923\n",
      "153 0.9641826923076923\n",
      "154 0.9639423076923077\n",
      "155 0.963701923076923\n",
      "156 0.9634615384615385\n",
      "157 0.9634615384615385\n",
      "158 0.963701923076923\n",
      "159 0.963701923076923\n",
      "160 0.9639423076923077\n",
      "161 0.9634615384615385\n",
      "162 0.9634615384615385\n",
      "163 0.9634615384615385\n",
      "164 0.9632211538461538\n",
      "165 0.9632211538461538\n",
      "166 0.9629807692307693\n",
      "167 0.9629807692307693\n",
      "168 0.9632211538461538\n",
      "169 0.9629807692307693\n",
      "170 0.9629807692307693\n",
      "171 0.9629807692307693\n",
      "172 0.9629807692307693\n",
      "173 0.9629807692307693\n",
      "174 0.9632211538461538\n",
      "175 0.9632211538461538\n",
      "176 0.9632211538461538\n",
      "177 0.9632211538461538\n",
      "178 0.9632211538461538\n",
      "179 0.9632211538461538\n",
      "180 0.9629807692307693\n",
      "181 0.9629807692307693\n",
      "182 0.9627403846153846\n",
      "183 0.9627403846153846\n",
      "184 0.9627403846153846\n",
      "185 0.9622596153846154\n",
      "186 0.9622596153846154\n",
      "187 0.9622596153846154\n",
      "188 0.9622596153846154\n",
      "189 0.9622596153846154\n",
      "190 0.9620192307692308\n",
      "191 0.9620192307692308\n",
      "192 0.9615384615384616\n",
      "193 0.9612980769230769\n",
      "194 0.9610576923076923\n",
      "195 0.9610576923076923\n",
      "196 0.9608173076923077\n",
      "197 0.9608173076923077\n",
      "198 0.9605769230769231\n",
      "199 0.9605769230769231\n"
     ]
    }
   ],
   "source": [
    "weighting_count = []\n",
    "weighting_result_accuracys = []\n",
    "for i_weighting in range(1, 200):\n",
    "    weighting_count.append(i_weighting)\n",
    "    softmax_probas = []\n",
    "    softmax_text_probas = []\n",
    "    combined_softmax_probas = []\n",
    "    for i in range(0, len(probas)):\n",
    "        softmax_probas.append(softmax(probas[i]))\n",
    "        softmax_text_probas.append(softmax(text_dec_probas[i])*10 *i_weighting)\n",
    "        combined_softmax_probas.append(softmax_probas[-1]+ softmax_text_probas[-1])\n",
    "\n",
    "    combined_probas = combined_softmax_probas\n",
    "\n",
    "    top_k_number = 1\n",
    "    top_k_acc, top_k_results, combined_indexes, combined_real_class_indexes = top_k_calc_from_probas(combined_probas, df_text_pred[\"truth_labels\"].values, top_k_number)\n",
    "    result_df[\"in_top_\" + str(top_k_number)] = top_k_results\n",
    "    print(i_weighting, top_k_acc)\n",
    "    weighting_result_accuracys.append(top_k_acc)\n",
    "    "
   ]
  },
  {
   "cell_type": "code",
   "execution_count": 53,
   "id": "465391e4",
   "metadata": {},
   "outputs": [
    {
     "name": "stdout",
     "output_type": "stream",
     "text": [
      "93\n",
      "0.96875\n"
     ]
    }
   ],
   "source": [
    "best_weight = np.argmax(weighting_result_accuracys) #87\n",
    "best_weight_accuracy = np.max(weighting_result_accuracys)\n",
    "print(best_weight)\n",
    "print(best_weight_accuracy)"
   ]
  },
  {
   "cell_type": "code",
   "execution_count": 54,
   "id": "c598bd94",
   "metadata": {},
   "outputs": [
    {
     "data": {
      "image/png": "[encoded data removed]",
      "text/plain": [
       "<Figure size 1600x1200 with 1 Axes>"
      ]
     },
     "metadata": {
      "needs_background": "light"
     },
     "output_type": "display_data"
    }
   ],
   "source": [
    "figure(figsize=(8, 6), dpi=200)\n",
    "plt.plot([x*10 for x in weighting_count], weighting_result_accuracys, label=\"Accuracy graph\")\n",
    "plt.plot(best_weight*10, best_weight_accuracy, marker=\"o\", label = \"Max Accuracy\")\n",
    "plt.title(\"Weighting optimization accuracy\")\n",
    "plt.ylabel(\"Accuracy\")\n",
    "plt.xlabel(\"Weighting value\")\n",
    "plt.legend()\n",
    "plt.savefig(\"../reports/figures/Validation_Weighting_Diagram.png\")"
   ]
  },
  {
   "cell_type": "code",
   "execution_count": 55,
   "id": "23557b15",
   "metadata": {},
   "outputs": [
    {
     "name": "stdout",
     "output_type": "stream",
     "text": [
      "0.9685096153846153\n"
     ]
    }
   ],
   "source": [
    "softmax_probas = []\n",
    "softmax_text_probas = []\n",
    "combined_softmax_probas = []\n",
    "for i in range(0, len(probas)):\n",
    "    softmax_probas.append(softmax(probas[i]))\n",
    "    softmax_text_probas.append(softmax(text_dec_probas[i])*10 *best_weight) #100*12\n",
    "    combined_softmax_probas.append(softmax_probas[-1]+ softmax_text_probas[-1])\n",
    "\n",
    "combined_probas = combined_softmax_probas\n",
    "\n",
    "top_k_number = 1\n",
    "top_k_acc, top_k_results, combined_indexes, combined_real_class_indexes = top_k_calc_from_probas(combined_probas, df_text_pred[\"truth_labels\"].values, top_k_number)\n",
    "result_df[\"in_top_\" + str(top_k_number)] = top_k_results\n",
    "print(top_k_acc)"
   ]
  },
  {
   "cell_type": "code",
   "execution_count": 56,
   "id": "d150ec41",
   "metadata": {},
   "outputs": [],
   "source": [
    "best_image_probas = []\n",
    "best_text_probas = []\n",
    "for i in range(0, len(image_indexes)):\n",
    "    best_image_probas.append(softmax_probas[i][image_indexes[i][0]])\n",
    "    best_text_probas.append(softmax_text_probas[i][text_indexes[i][0]])"
   ]
  },
  {
   "cell_type": "code",
   "execution_count": 57,
   "id": "f02b17b3",
   "metadata": {},
   "outputs": [],
   "source": [
    "results = []\n",
    "high_conf = []\n",
    "low_conf = []\n",
    "for i in range(0, len(best_text_probas)):\n",
    "    if text_indexes[i][0] == image_indexes[i][0]:\n",
    "        results.append(int(text_indexes[i][0]))\n",
    "        high_conf.append(int(text_indexes[i][0]) == df_text_pred[\"truth_labels\"].values[i])\n",
    "    else:\n",
    "        results.append(combined_indexes[i][0])\n",
    "        low_conf.append(combined_indexes[i][0] == df_text_pred[\"truth_labels\"].values[i])"
   ]
  },
  {
   "cell_type": "code",
   "execution_count": 58,
   "id": "7a566608",
   "metadata": {},
   "outputs": [
    {
     "name": "stdout",
     "output_type": "stream",
     "text": [
      "Combine Accuracy\n"
     ]
    },
    {
     "data": {
      "text/plain": [
       "0.9685096153846153"
      ]
     },
     "execution_count": 58,
     "metadata": {},
     "output_type": "execute_result"
    }
   ],
   "source": [
    "print(\"Combine Accuracy\")\n",
    "list(results == df_text_pred[\"truth_labels\"].values).count(True)/len(df_text_pred)"
   ]
  },
  {
   "cell_type": "code",
   "execution_count": 59,
   "id": "6198477a",
   "metadata": {},
   "outputs": [
    {
     "name": "stdout",
     "output_type": "stream",
     "text": [
      "Percentage of Data - Models same result\n",
      "0.8831730769230769\n",
      "Percentage of Data - Models same result - Accuracy\n",
      "0.9880239520958084\n"
     ]
    }
   ],
   "source": [
    "print(\"Percentage of Data - Models same result\")\n",
    "print(len(high_conf)/len(best_text_probas))\n",
    "\n",
    "print(\"Percentage of Data - Models same result - Accuracy\")\n",
    "print(list(high_conf).count(True)/len(high_conf))"
   ]
  },
  {
   "cell_type": "code",
   "execution_count": 60,
   "id": "1503b0a6",
   "metadata": {},
   "outputs": [
    {
     "name": "stdout",
     "output_type": "stream",
     "text": [
      "Percentage of Data - Models not the same\n",
      "0.11682692307692308\n",
      "Percentage of Data - Models not the same - Accuracy\n",
      "0.8209876543209876\n"
     ]
    }
   ],
   "source": [
    "print(\"Percentage of Data - Models not the same\")\n",
    "print(len(low_conf)/len(best_text_probas))\n",
    "\n",
    "print(\"Percentage of Data - Models not the same - Accuracy\")\n",
    "print(list(low_conf).count(True)/len(low_conf))"
   ]
  },
  {
   "cell_type": "code",
   "execution_count": 61,
   "id": "8daf9c39",
   "metadata": {},
   "outputs": [
    {
     "name": "stdout",
     "output_type": "stream",
     "text": [
      "Accuracy Top - 1\n"
     ]
    },
    {
     "data": {
      "text/plain": [
       "0.9685096153846153"
      ]
     },
     "execution_count": 61,
     "metadata": {},
     "output_type": "execute_result"
    }
   ],
   "source": [
    "combined_probas = combined_softmax_probas\n",
    "\n",
    "top_k_number = 1\n",
    "top_k_acc, top_k_results, combined_indexes, combined_real_class_indexes = top_k_calc_from_probas(combined_probas, df_text_pred[\"truth_labels\"].values, top_k_number)\n",
    "result_df[\"in_top_\" + str(top_k_number)] = top_k_results\n",
    "\n",
    "print(\"Accuracy Top - \" + str(top_k_number))\n",
    "top_k_acc"
   ]
  },
  {
   "cell_type": "code",
   "execution_count": 62,
   "id": "46e72874",
   "metadata": {},
   "outputs": [
    {
     "name": "stdout",
     "output_type": "stream",
     "text": [
      "Accuracy Top - 3\n"
     ]
    },
    {
     "data": {
      "text/plain": [
       "0.9942307692307693"
      ]
     },
     "execution_count": 62,
     "metadata": {},
     "output_type": "execute_result"
    }
   ],
   "source": [
    "combined_probas = combined_softmax_probas\n",
    "\n",
    "top_k_number = 3\n",
    "top_k_acc, top_k_results, combined_indexes, combined_real_class_indexes = top_k_calc_from_probas(combined_probas, df_text_pred[\"truth_labels\"].values, top_k_number)\n",
    "result_df[\"in_top_\" + str(top_k_number)] = top_k_results\n",
    "\n",
    "print(\"Accuracy Top - \" + str(top_k_number))\n",
    "top_k_acc"
   ]
  },
  {
   "cell_type": "code",
   "execution_count": 63,
   "id": "9ecca995",
   "metadata": {},
   "outputs": [
    {
     "name": "stdout",
     "output_type": "stream",
     "text": [
      "Accuracy Top - 5\n"
     ]
    },
    {
     "data": {
      "text/plain": [
       "0.9951923076923077"
      ]
     },
     "execution_count": 63,
     "metadata": {},
     "output_type": "execute_result"
    }
   ],
   "source": [
    "combined_probas = combined_softmax_probas\n",
    "\n",
    "top_k_number = 5\n",
    "top_k_acc, top_k_results, combined_indexes, combined_real_class_indexes = top_k_calc_from_probas(combined_probas, df_text_pred[\"truth_labels\"].values, top_k_number)\n",
    "result_df[\"in_top_\" + str(top_k_number)] = top_k_results\n",
    "\n",
    "print(\"Accuracy Top - \" + str(top_k_number))\n",
    "top_k_acc"
   ]
  },
  {
   "cell_type": "markdown",
   "id": "a997b101",
   "metadata": {},
   "source": [
    "# Test"
   ]
  },
  {
   "cell_type": "markdown",
   "id": "292b53ae",
   "metadata": {},
   "source": [
    "## Image Test"
   ]
  },
  {
   "cell_type": "code",
   "execution_count": 64,
   "id": "1ef26de3",
   "metadata": {},
   "outputs": [],
   "source": [
    "# get Image Order from dataloader to keep order\n",
    "selected_dataloader = pRMModel.dataloaders[\"test\"]\n",
    "test_image_paths = selected_dataloader.dataset.imgs\n",
    "test_image_model_labels = [x[1] for x in test_image_paths]\n",
    "test_image_paths = [x[0] for x in test_image_paths]\n",
    "test_image_paths_512 = [x.replace(\"_256\", \"_512\") for x in test_image_paths]\n",
    "\n",
    "df_test_images = pd.DataFrame()\n",
    "df_test_images[\"image_paths\"] = test_image_paths_512\n",
    "\n",
    "result_df = pd.DataFrame()\n",
    "result_df[\"image_paths\"] = test_image_paths\n",
    "result_df[\"truth_labels\"] = test_image_model_labels"
   ]
  },
  {
   "cell_type": "code",
   "execution_count": 65,
   "id": "00b38738",
   "metadata": {},
   "outputs": [
    {
     "name": "stdout",
     "output_type": "stream",
     "text": [
      "CPU times: user 3min 43s, sys: 2.5 s, total: 3min 46s\n",
      "Wall time: 28.3 s\n"
     ]
    }
   ],
   "source": [
    "%%time\n",
    "# predict by dataloader\n",
    "result, probas = pRMModel.predict_from_dataloader_probas(selected_dataloader)\n",
    "confidence = [x[0] for x in result]\n",
    "predictions = [x[1] for x in result]\n",
    "result_df[\"image_confidence\"] = confidence\n",
    "result_df[\"image_prediction\"] = predictions"
   ]
  },
  {
   "cell_type": "code",
   "execution_count": 66,
   "id": "73f6ab4b",
   "metadata": {},
   "outputs": [
    {
     "data": {
      "text/plain": [
       "0.9254807692307693"
      ]
     },
     "execution_count": 66,
     "metadata": {},
     "output_type": "execute_result"
    }
   ],
   "source": [
    "top_k_number = 1\n",
    "top_k_acc, top_k_results, image_indexes, _ = top_k_calc_from_probas(probas, result_df[\"truth_labels\"].values, top_k_number)\n",
    "result_df[\"in_top_\" + str(top_k_number)] = top_k_results\n",
    "top_k_acc"
   ]
  },
  {
   "cell_type": "code",
   "execution_count": 67,
   "id": "2619fcc4",
   "metadata": {},
   "outputs": [
    {
     "data": {
      "text/plain": [
       "0.9663461538461539"
      ]
     },
     "execution_count": 67,
     "metadata": {},
     "output_type": "execute_result"
    }
   ],
   "source": [
    "top_k_number = 3\n",
    "top_k_acc, top_k_results, image_indexes, _ = top_k_calc_from_probas(probas, result_df[\"truth_labels\"].values, top_k_number)\n",
    "result_df[\"in_top_\" + str(top_k_number)] = top_k_results\n",
    "top_k_acc"
   ]
  },
  {
   "cell_type": "code",
   "execution_count": 68,
   "id": "9fb15a22",
   "metadata": {},
   "outputs": [
    {
     "data": {
      "text/plain": [
       "0.9725961538461538"
      ]
     },
     "execution_count": 68,
     "metadata": {},
     "output_type": "execute_result"
    }
   ],
   "source": [
    "top_k_number = 5\n",
    "top_k_acc, top_k_results, image_indexes, _ = top_k_calc_from_probas(probas, result_df[\"truth_labels\"].values, top_k_number)\n",
    "result_df[\"in_top_\" + str(top_k_number)] = top_k_results\n",
    "top_k_acc"
   ]
  },
  {
   "cell_type": "markdown",
   "id": "d3c56dcd",
   "metadata": {},
   "source": [
    "## Text Test"
   ]
  },
  {
   "cell_type": "code",
   "execution_count": 69,
   "id": "b598ca0a",
   "metadata": {},
   "outputs": [],
   "source": [
    "df_text_pred = df_test.copy()"
   ]
  },
  {
   "cell_type": "code",
   "execution_count": 70,
   "id": "d378fc13",
   "metadata": {},
   "outputs": [],
   "source": [
    "#sort to adjust order to image dataloader prediction\n",
    "df_text_pred = df_text_pred.sort_values(\"image_id\").reset_index(drop=True)\n",
    "\n",
    "truth_indexes = []\n",
    "for i in df_text_pred[\"truth_labels\"].values:\n",
    "    truth_indexes.append(selected_dataloader.dataset.class_to_idx[i])\n",
    "df_text_pred[\"truth_labels\"] = truth_indexes\n",
    "#df_text_pred.to_pickle(save_path + \"df_test_sorted\" +\".pkl\")"
   ]
  },
  {
   "cell_type": "code",
   "execution_count": 71,
   "id": "3a082465",
   "metadata": {},
   "outputs": [],
   "source": [
    "transformation = text_model.transform(df_text_pred[\"ocr_all\"])\n",
    "text_preds = text_model.predict(transformation)\n",
    "text_probas = text_model.model.predict_proba(transformation)\n",
    "text_dec_probas = text_model.model.decision_function(transformation)\n",
    "\n",
    "result_df[\"text_prediction\"] = text_preds"
   ]
  },
  {
   "cell_type": "code",
   "execution_count": 72,
   "id": "cf6aabce",
   "metadata": {},
   "outputs": [
    {
     "data": {
      "text/plain": [
       "0.9204326923076923"
      ]
     },
     "execution_count": 72,
     "metadata": {},
     "output_type": "execute_result"
    }
   ],
   "source": [
    "top_k_number = 1\n",
    "top_k_acc, top_k_results, text_indexes, _ = top_k_calc_from_probas(text_dec_probas, df_text_pred[\"truth_labels\"].values, top_k_number)\n",
    "result_df[\"in_top_\" + str(top_k_number)] = top_k_results\n",
    "\n",
    "result_df[\"text_in_top_1\"] = top_k_results\n",
    "top_k_acc"
   ]
  },
  {
   "cell_type": "markdown",
   "id": "7c5bdceb",
   "metadata": {},
   "source": [
    "## Test Combine"
   ]
  },
  {
   "cell_type": "code",
   "execution_count": 73,
   "id": "58b6049a",
   "metadata": {},
   "outputs": [
    {
     "name": "stdout",
     "output_type": "stream",
     "text": [
      "0.9668269230769231\n"
     ]
    }
   ],
   "source": [
    "softmax_probas = []\n",
    "softmax_text_probas = []\n",
    "combined_softmax_probas = []\n",
    "for i in range(0, len(probas)):\n",
    "    softmax_probas.append(softmax(probas[i]))\n",
    "    softmax_text_probas.append(softmax(text_dec_probas[i])*10 *best_weight) #100*12\n",
    "    combined_softmax_probas.append(softmax_probas[-1]+ softmax_text_probas[-1])\n",
    "\n",
    "combined_probas = combined_softmax_probas\n",
    "\n",
    "top_k_number = 1\n",
    "top_k_acc, top_k_results, combined_indexes, combined_real_class_indexes = top_k_calc_from_probas(combined_probas, df_text_pred[\"truth_labels\"].values, top_k_number)\n",
    "result_df[\"in_top_\" + str(top_k_number)] = top_k_results\n",
    "print(top_k_acc)"
   ]
  },
  {
   "cell_type": "code",
   "execution_count": 74,
   "id": "6112f668",
   "metadata": {},
   "outputs": [],
   "source": [
    "best_image_probas = []\n",
    "best_text_probas = []\n",
    "for i in range(0, len(image_indexes)):\n",
    "    best_image_probas.append(softmax_probas[i][image_indexes[i][0]])\n",
    "    best_text_probas.append(softmax_text_probas[i][text_indexes[i][0]])"
   ]
  },
  {
   "cell_type": "code",
   "execution_count": 75,
   "id": "f3b2c191",
   "metadata": {},
   "outputs": [],
   "source": [
    "results = []\n",
    "high_conf = []\n",
    "low_conf = []\n",
    "for i in range(0, len(best_text_probas)):\n",
    "    if text_indexes[i][0] == image_indexes[i][0]:\n",
    "        results.append(int(text_indexes[i][0]))\n",
    "        high_conf.append(int(text_indexes[i][0]) == df_text_pred[\"truth_labels\"].values[i])\n",
    "    else:\n",
    "        results.append(combined_indexes[i][0])\n",
    "        low_conf.append(combined_indexes[i][0] == df_text_pred[\"truth_labels\"].values[i])"
   ]
  },
  {
   "cell_type": "code",
   "execution_count": 76,
   "id": "148e88b3",
   "metadata": {},
   "outputs": [
    {
     "name": "stdout",
     "output_type": "stream",
     "text": [
      "Combine Accuracy\n"
     ]
    },
    {
     "data": {
      "text/plain": [
       "0.9668269230769231"
      ]
     },
     "execution_count": 76,
     "metadata": {},
     "output_type": "execute_result"
    }
   ],
   "source": [
    "print(\"Combine Accuracy\")\n",
    "list(results == df_text_pred[\"truth_labels\"].values).count(True)/len(df_text_pred)"
   ]
  },
  {
   "cell_type": "code",
   "execution_count": 77,
   "id": "90fe8a07",
   "metadata": {},
   "outputs": [
    {
     "name": "stdout",
     "output_type": "stream",
     "text": [
      "Percentage of Data - Models same result\n",
      "0.8764423076923077\n",
      "Percentage of Data - Models same result - Accuracy\n",
      "0.9871091607240812\n"
     ]
    }
   ],
   "source": [
    "print(\"Percentage of Data - Models same result\")\n",
    "print(len(high_conf)/len(best_text_probas))\n",
    "\n",
    "print(\"Percentage of Data - Models same result - Accuracy\")\n",
    "print(list(high_conf).count(True)/len(high_conf))"
   ]
  },
  {
   "cell_type": "code",
   "execution_count": 78,
   "id": "5ed1faec",
   "metadata": {},
   "outputs": [
    {
     "name": "stdout",
     "output_type": "stream",
     "text": [
      "Percentage of Data - Models not the same\n",
      "0.12355769230769231\n",
      "Percentage of Data - Models not the same - Accuracy\n",
      "0.8229571984435797\n"
     ]
    }
   ],
   "source": [
    "print(\"Percentage of Data - Models not the same\")\n",
    "print(len(low_conf)/len(best_text_probas))\n",
    "\n",
    "print(\"Percentage of Data - Models not the same - Accuracy\")\n",
    "print(list(low_conf).count(True)/len(low_conf))"
   ]
  },
  {
   "cell_type": "code",
   "execution_count": 79,
   "id": "9d97e332",
   "metadata": {},
   "outputs": [
    {
     "name": "stdout",
     "output_type": "stream",
     "text": [
      "Accuracy Top - 1\n"
     ]
    },
    {
     "data": {
      "text/plain": [
       "0.9668269230769231"
      ]
     },
     "execution_count": 79,
     "metadata": {},
     "output_type": "execute_result"
    }
   ],
   "source": [
    "combined_probas = combined_softmax_probas\n",
    "\n",
    "top_k_number = 1\n",
    "top_k_acc, top_k_results, combined_indexes, combined_real_class_indexes = top_k_calc_from_probas(combined_probas, df_text_pred[\"truth_labels\"].values, top_k_number)\n",
    "result_df[\"in_top_\" + str(top_k_number)] = top_k_results\n",
    "\n",
    "print(\"Accuracy Top - \" + str(top_k_number))\n",
    "top_k_acc"
   ]
  },
  {
   "cell_type": "code",
   "execution_count": 80,
   "id": "f2ea9b4a",
   "metadata": {},
   "outputs": [
    {
     "name": "stdout",
     "output_type": "stream",
     "text": [
      "Accuracy Top - 3\n"
     ]
    },
    {
     "data": {
      "text/plain": [
       "0.9913461538461539"
      ]
     },
     "execution_count": 80,
     "metadata": {},
     "output_type": "execute_result"
    }
   ],
   "source": [
    "combined_probas = combined_softmax_probas\n",
    "\n",
    "top_k_number = 3\n",
    "top_k_acc, top_k_results, combined_indexes, combined_real_class_indexes = top_k_calc_from_probas(combined_probas, df_text_pred[\"truth_labels\"].values, top_k_number)\n",
    "result_df[\"in_top_\" + str(top_k_number)] = top_k_results\n",
    "\n",
    "print(\"Accuracy Top - \" + str(top_k_number))\n",
    "top_k_acc"
   ]
  },
  {
   "cell_type": "code",
   "execution_count": 81,
   "id": "94b088cd",
   "metadata": {},
   "outputs": [
    {
     "name": "stdout",
     "output_type": "stream",
     "text": [
      "Accuracy Top - 5\n"
     ]
    },
    {
     "data": {
      "text/plain": [
       "0.9944711538461538"
      ]
     },
     "execution_count": 81,
     "metadata": {},
     "output_type": "execute_result"
    }
   ],
   "source": [
    "combined_probas = combined_softmax_probas\n",
    "\n",
    "top_k_number = 5\n",
    "top_k_acc, top_k_results, combined_indexes, combined_real_class_indexes = top_k_calc_from_probas(combined_probas, df_text_pred[\"truth_labels\"].values, top_k_number)\n",
    "result_df[\"in_top_\" + str(top_k_number)] = top_k_results\n",
    "\n",
    "print(\"Accuracy Top - \" + str(top_k_number))\n",
    "top_k_acc"
   ]
  }
 ],
 "metadata": {
  "kernelspec": {
   "display_name": "Python 3 (ipykernel)",
   "language": "python",
   "name": "python3"
  },
  "language_info": {
   "codemirror_mode": {
    "name": "ipython",
    "version": 3
   },
   "file_extension": ".py",
   "mimetype": "text/x-python",
   "name": "python",
   "nbconvert_exporter": "python",
   "pygments_lexer": "ipython3",
   "version": "3.8.13"
  }
 },
 "nbformat": 4,
 "nbformat_minor": 5
}
